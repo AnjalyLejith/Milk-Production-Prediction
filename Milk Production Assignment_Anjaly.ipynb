{
 "cells": [
  {
   "cell_type": "markdown",
   "metadata": {},
   "source": [
    "## Problem statement:Calculate the current milk production.\n",
    "## Approach used:Regression"
   ]
  },
  {
   "cell_type": "code",
   "execution_count": 84,
   "metadata": {},
   "outputs": [],
   "source": [
    "import numpy as np\n",
    "import pandas as pd\n",
    "import seaborn as sns\n",
    "from sklearn.linear_model import LinearRegression as LR\n",
    "from sklearn.metrics import mean_absolute_error as mae\n",
    "from sklearn.metrics import mean_squared_error as mse\n",
    "from sklearn.model_selection import RepeatedKFold\n",
    "from sklearn.feature_selection import SelectKBest\n",
    "from sklearn.feature_selection import mutual_info_regression,f_regression\n",
    "from sklearn.linear_model import LinearRegression\n",
    "from sklearn.pipeline import Pipeline\n",
    "from sklearn.model_selection import GridSearchCV\n",
    "from sklearn.model_selection import cross_val_score\n",
    "from sklearn.preprocessing import StandardScaler\n",
    "from sklearn.linear_model import Lasso\n",
    "from sklearn.cross_decomposition import PLSRegression\n",
    "from sklearn.compose import ColumnTransformer\n",
    "import matplotlib.pyplot as plt"
   ]
  },
  {
   "cell_type": "code",
   "execution_count": 44,
   "metadata": {},
   "outputs": [],
   "source": [
    "milkdata=pd.read_csv(\"Milk Production Data.txt\",sep='\\t')\n",
    "temp=milkdata.copy(deep=True)"
   ]
  },
  {
   "cell_type": "code",
   "execution_count": 45,
   "metadata": {},
   "outputs": [
    {
     "data": {
      "text/plain": [
       "CurrentMilk    0\n",
       "Previous       0\n",
       "Fat            0\n",
       "Protein        0\n",
       "Days           0\n",
       "Lactation      0\n",
       "I79            0\n",
       "dtype: int64"
      ]
     },
     "execution_count": 45,
     "metadata": {},
     "output_type": "execute_result"
    }
   ],
   "source": [
    "milkdata.isnull().sum()"
   ]
  },
  {
   "cell_type": "markdown",
   "metadata": {},
   "source": [
    "#### No null values in the dataset"
   ]
  },
  {
   "cell_type": "code",
   "execution_count": 46,
   "metadata": {},
   "outputs": [
    {
     "data": {
      "text/plain": [
       "0"
      ]
     },
     "execution_count": 46,
     "metadata": {},
     "output_type": "execute_result"
    }
   ],
   "source": [
    "duplicate = milkdata[milkdata.duplicated()] \n",
    "len(duplicate)"
   ]
  },
  {
   "cell_type": "markdown",
   "metadata": {},
   "source": [
    "#### No duplicate records found"
   ]
  },
  {
   "cell_type": "code",
   "execution_count": 47,
   "metadata": {
    "scrolled": true
   },
   "outputs": [
    {
     "data": {
      "text/plain": [
       "1    169\n",
       "0     30\n",
       "Name: I79, dtype: int64"
      ]
     },
     "execution_count": 47,
     "metadata": {},
     "output_type": "execute_result"
    }
   ],
   "source": [
    "milkdata['I79'].value_counts()"
   ]
  },
  {
   "cell_type": "code",
   "execution_count": 48,
   "metadata": {},
   "outputs": [
    {
     "data": {
      "text/plain": [
       "3.8    16\n",
       "2.9    14\n",
       "3.6    12\n",
       "3.5    12\n",
       "3.3    11\n",
       "4.1    11\n",
       "3.7    11\n",
       "3.2    10\n",
       "2.8     8\n",
       "4.0     7\n",
       "3.9     7\n",
       "4.3     7\n",
       "2.5     7\n",
       "3.1     6\n",
       "4.2     6\n",
       "3.4     6\n",
       "3.0     5\n",
       "4.5     4\n",
       "4.7     4\n",
       "4.4     4\n",
       "4.6     4\n",
       "2.7     3\n",
       "5.9     3\n",
       "6.4     2\n",
       "5.5     2\n",
       "2.3     2\n",
       "2.4     2\n",
       "2.6     2\n",
       "5.1     1\n",
       "7.4     1\n",
       "4.9     1\n",
       "1.8     1\n",
       "6.2     1\n",
       "5.3     1\n",
       "5.8     1\n",
       "4.8     1\n",
       "5.7     1\n",
       "6.5     1\n",
       "5.2     1\n",
       "Name: Fat, dtype: int64"
      ]
     },
     "execution_count": 48,
     "metadata": {},
     "output_type": "execute_result"
    }
   ],
   "source": [
    " milkdata['Fat'].value_counts()"
   ]
  },
  {
   "cell_type": "markdown",
   "metadata": {},
   "source": []
  },
  {
   "cell_type": "code",
   "execution_count": 49,
   "metadata": {
    "scrolled": true
   },
   "outputs": [
    {
     "data": {
      "text/plain": [
       "62    13\n",
       "57    10\n",
       "63     8\n",
       "75     7\n",
       "60     7\n",
       "      ..\n",
       "95     1\n",
       "96     1\n",
       "98     1\n",
       "99     1\n",
       "17     1\n",
       "Name: Previous, Length: 68, dtype: int64"
      ]
     },
     "execution_count": 49,
     "metadata": {},
     "output_type": "execute_result"
    }
   ],
   "source": [
    "milkdata['Previous'].value_counts()"
   ]
  },
  {
   "cell_type": "code",
   "execution_count": 50,
   "metadata": {},
   "outputs": [
    {
     "data": {
      "text/plain": [
       "<matplotlib.axes._subplots.AxesSubplot at 0x222deb68a30>"
      ]
     },
     "execution_count": 50,
     "metadata": {},
     "output_type": "execute_result"
    },
    {
     "data": {
      "image/png": "[encoded data removed]",
      "text/plain": [
       "<Figure size 432x288 with 1 Axes>"
      ]
     },
     "metadata": {
      "needs_background": "light"
     },
     "output_type": "display_data"
    }
   ],
   "source": [
    "sns.boxplot(x='Protein',data=milkdata)"
   ]
  },
  {
   "cell_type": "code",
   "execution_count": 51,
   "metadata": {
    "scrolled": true
   },
   "outputs": [
    {
     "data": {
      "text/plain": [
       "<matplotlib.axes._subplots.AxesSubplot at 0x222df0f9fa0>"
      ]
     },
     "execution_count": 51,
     "metadata": {},
     "output_type": "execute_result"
    },
    {
     "data": {
      "image/png": "[encoded data removed]",
      "text/plain": [
       "<Figure size 432x288 with 1 Axes>"
      ]
     },
     "metadata": {
      "needs_background": "light"
     },
     "output_type": "display_data"
    }
   ],
   "source": [
    "sns.boxplot(x='Fat',data=milkdata)"
   ]
  },
  {
   "cell_type": "code",
   "execution_count": 52,
   "metadata": {},
   "outputs": [
    {
     "data": {
      "text/plain": [
       "<matplotlib.axes._subplots.AxesSubplot at 0x222df165b80>"
      ]
     },
     "execution_count": 52,
     "metadata": {},
     "output_type": "execute_result"
    },
    {
     "data": {
      "image/png": "[encoded data removed]",
      "text/plain": [
       "<Figure size 432x288 with 1 Axes>"
      ]
     },
     "metadata": {
      "needs_background": "light"
     },
     "output_type": "display_data"
    }
   ],
   "source": [
    "sns.boxplot(x='Lactation',data=milkdata)"
   ]
  },
  {
   "cell_type": "code",
   "execution_count": 53,
   "metadata": {},
   "outputs": [
    {
     "data": {
      "text/html": [
       "<div>\n",
       "<style scoped>\n",
       "    .dataframe tbody tr th:only-of-type {\n",
       "        vertical-align: middle;\n",
       "    }\n",
       "\n",
       "    .dataframe tbody tr th {\n",
       "        vertical-align: top;\n",
       "    }\n",
       "\n",
       "    .dataframe thead th {\n",
       "        text-align: right;\n",
       "    }\n",
       "</style>\n",
       "<table border=\"1\" class=\"dataframe\">\n",
       "  <thead>\n",
       "    <tr style=\"text-align: right;\">\n",
       "      <th></th>\n",
       "      <th>CurrentMilk</th>\n",
       "      <th>Previous</th>\n",
       "      <th>Fat</th>\n",
       "      <th>Protein</th>\n",
       "      <th>Days</th>\n",
       "      <th>Lactation</th>\n",
       "      <th>I79</th>\n",
       "    </tr>\n",
       "  </thead>\n",
       "  <tbody>\n",
       "    <tr>\n",
       "      <th>count</th>\n",
       "      <td>199.000000</td>\n",
       "      <td>199.000000</td>\n",
       "      <td>199.000000</td>\n",
       "      <td>199.000000</td>\n",
       "      <td>199.000000</td>\n",
       "      <td>199.000000</td>\n",
       "      <td>199.000000</td>\n",
       "    </tr>\n",
       "    <tr>\n",
       "      <th>mean</th>\n",
       "      <td>64.819095</td>\n",
       "      <td>62.603015</td>\n",
       "      <td>3.723116</td>\n",
       "      <td>3.184774</td>\n",
       "      <td>155.055276</td>\n",
       "      <td>2.236181</td>\n",
       "      <td>0.849246</td>\n",
       "    </tr>\n",
       "    <tr>\n",
       "      <th>std</th>\n",
       "      <td>18.129095</td>\n",
       "      <td>16.790696</td>\n",
       "      <td>0.874884</td>\n",
       "      <td>0.546092</td>\n",
       "      <td>68.280482</td>\n",
       "      <td>1.463184</td>\n",
       "      <td>0.358711</td>\n",
       "    </tr>\n",
       "    <tr>\n",
       "      <th>min</th>\n",
       "      <td>14.000000</td>\n",
       "      <td>17.000000</td>\n",
       "      <td>1.800000</td>\n",
       "      <td>1.300000</td>\n",
       "      <td>21.000000</td>\n",
       "      <td>1.000000</td>\n",
       "      <td>0.000000</td>\n",
       "    </tr>\n",
       "    <tr>\n",
       "      <th>25%</th>\n",
       "      <td>54.000000</td>\n",
       "      <td>53.000000</td>\n",
       "      <td>3.150000</td>\n",
       "      <td>2.900000</td>\n",
       "      <td>105.000000</td>\n",
       "      <td>1.000000</td>\n",
       "      <td>1.000000</td>\n",
       "    </tr>\n",
       "    <tr>\n",
       "      <th>50%</th>\n",
       "      <td>64.000000</td>\n",
       "      <td>62.000000</td>\n",
       "      <td>3.600000</td>\n",
       "      <td>3.200000</td>\n",
       "      <td>149.000000</td>\n",
       "      <td>2.000000</td>\n",
       "      <td>1.000000</td>\n",
       "    </tr>\n",
       "    <tr>\n",
       "      <th>75%</th>\n",
       "      <td>77.000000</td>\n",
       "      <td>73.000000</td>\n",
       "      <td>4.100000</td>\n",
       "      <td>3.400000</td>\n",
       "      <td>208.500000</td>\n",
       "      <td>3.000000</td>\n",
       "      <td>1.000000</td>\n",
       "    </tr>\n",
       "    <tr>\n",
       "      <th>max</th>\n",
       "      <td>113.000000</td>\n",
       "      <td>104.000000</td>\n",
       "      <td>7.400000</td>\n",
       "      <td>8.900000</td>\n",
       "      <td>301.000000</td>\n",
       "      <td>8.000000</td>\n",
       "      <td>1.000000</td>\n",
       "    </tr>\n",
       "  </tbody>\n",
       "</table>\n",
       "</div>"
      ],
      "text/plain": [
       "       CurrentMilk    Previous         Fat     Protein        Days  \\\n",
       "count   199.000000  199.000000  199.000000  199.000000  199.000000   \n",
       "mean     64.819095   62.603015    3.723116    3.184774  155.055276   \n",
       "std      18.129095   16.790696    0.874884    0.546092   68.280482   \n",
       "min      14.000000   17.000000    1.800000    1.300000   21.000000   \n",
       "25%      54.000000   53.000000    3.150000    2.900000  105.000000   \n",
       "50%      64.000000   62.000000    3.600000    3.200000  149.000000   \n",
       "75%      77.000000   73.000000    4.100000    3.400000  208.500000   \n",
       "max     113.000000  104.000000    7.400000    8.900000  301.000000   \n",
       "\n",
       "        Lactation         I79  \n",
       "count  199.000000  199.000000  \n",
       "mean     2.236181    0.849246  \n",
       "std      1.463184    0.358711  \n",
       "min      1.000000    0.000000  \n",
       "25%      1.000000    1.000000  \n",
       "50%      2.000000    1.000000  \n",
       "75%      3.000000    1.000000  \n",
       "max      8.000000    1.000000  "
      ]
     },
     "execution_count": 53,
     "metadata": {},
     "output_type": "execute_result"
    }
   ],
   "source": [
    "milkdata.describe()"
   ]
  },
  {
   "cell_type": "code",
   "execution_count": 54,
   "metadata": {},
   "outputs": [
    {
     "data": {
      "text/plain": [
       "CurrentMilk   -0.160819\n",
       "Previous      -0.066733\n",
       "Fat            1.158438\n",
       "Protein        5.795885\n",
       "Days           0.245063\n",
       "Lactation      1.605884\n",
       "I79           -1.966997\n",
       "dtype: float64"
      ]
     },
     "execution_count": 54,
     "metadata": {},
     "output_type": "execute_result"
    }
   ],
   "source": [
    "milkdata.skew(axis=0)"
   ]
  },
  {
   "cell_type": "markdown",
   "metadata": {},
   "source": [
    "#### Protein is very much skewed whereas Lactation and Fat are moderately skewed.Rest of the features are normally distributed."
   ]
  },
  {
   "cell_type": "markdown",
   "metadata": {},
   "source": [
    "#### Outliers in Protein,Fat and Lactation features.Our dataset has only 200 entries,removing the outliers would further reduce the   data"
   ]
  },
  {
   "cell_type": "code",
   "execution_count": 55,
   "metadata": {
    "scrolled": true
   },
   "outputs": [
    {
     "data": {
      "text/html": [
       "<div>\n",
       "<style scoped>\n",
       "    .dataframe tbody tr th:only-of-type {\n",
       "        vertical-align: middle;\n",
       "    }\n",
       "\n",
       "    .dataframe tbody tr th {\n",
       "        vertical-align: top;\n",
       "    }\n",
       "\n",
       "    .dataframe thead th {\n",
       "        text-align: right;\n",
       "    }\n",
       "</style>\n",
       "<table border=\"1\" class=\"dataframe\">\n",
       "  <thead>\n",
       "    <tr style=\"text-align: right;\">\n",
       "      <th></th>\n",
       "      <th>CurrentMilk</th>\n",
       "      <th>Previous</th>\n",
       "      <th>Fat</th>\n",
       "      <th>Protein</th>\n",
       "      <th>Days</th>\n",
       "      <th>Lactation</th>\n",
       "      <th>I79</th>\n",
       "    </tr>\n",
       "  </thead>\n",
       "  <tbody>\n",
       "    <tr>\n",
       "      <th>0</th>\n",
       "      <td>45</td>\n",
       "      <td>45</td>\n",
       "      <td>5.5</td>\n",
       "      <td>8.9</td>\n",
       "      <td>21</td>\n",
       "      <td>5</td>\n",
       "      <td>0</td>\n",
       "    </tr>\n",
       "    <tr>\n",
       "      <th>1</th>\n",
       "      <td>86</td>\n",
       "      <td>86</td>\n",
       "      <td>4.4</td>\n",
       "      <td>4.1</td>\n",
       "      <td>25</td>\n",
       "      <td>4</td>\n",
       "      <td>0</td>\n",
       "    </tr>\n",
       "    <tr>\n",
       "      <th>2</th>\n",
       "      <td>50</td>\n",
       "      <td>50</td>\n",
       "      <td>6.5</td>\n",
       "      <td>4.0</td>\n",
       "      <td>25</td>\n",
       "      <td>7</td>\n",
       "      <td>0</td>\n",
       "    </tr>\n",
       "    <tr>\n",
       "      <th>3</th>\n",
       "      <td>42</td>\n",
       "      <td>42</td>\n",
       "      <td>7.4</td>\n",
       "      <td>4.1</td>\n",
       "      <td>25</td>\n",
       "      <td>2</td>\n",
       "      <td>0</td>\n",
       "    </tr>\n",
       "    <tr>\n",
       "      <th>4</th>\n",
       "      <td>61</td>\n",
       "      <td>61</td>\n",
       "      <td>3.8</td>\n",
       "      <td>3.8</td>\n",
       "      <td>33</td>\n",
       "      <td>2</td>\n",
       "      <td>0</td>\n",
       "    </tr>\n",
       "    <tr>\n",
       "      <th>...</th>\n",
       "      <td>...</td>\n",
       "      <td>...</td>\n",
       "      <td>...</td>\n",
       "      <td>...</td>\n",
       "      <td>...</td>\n",
       "      <td>...</td>\n",
       "      <td>...</td>\n",
       "    </tr>\n",
       "    <tr>\n",
       "      <th>194</th>\n",
       "      <td>89</td>\n",
       "      <td>89</td>\n",
       "      <td>3.3</td>\n",
       "      <td>3.0</td>\n",
       "      <td>149</td>\n",
       "      <td>2</td>\n",
       "      <td>1</td>\n",
       "    </tr>\n",
       "    <tr>\n",
       "      <th>195</th>\n",
       "      <td>68</td>\n",
       "      <td>69</td>\n",
       "      <td>3.5</td>\n",
       "      <td>3.4</td>\n",
       "      <td>149</td>\n",
       "      <td>2</td>\n",
       "      <td>1</td>\n",
       "    </tr>\n",
       "    <tr>\n",
       "      <th>196</th>\n",
       "      <td>55</td>\n",
       "      <td>54</td>\n",
       "      <td>5.9</td>\n",
       "      <td>3.4</td>\n",
       "      <td>149</td>\n",
       "      <td>1</td>\n",
       "      <td>1</td>\n",
       "    </tr>\n",
       "    <tr>\n",
       "      <th>197</th>\n",
       "      <td>47</td>\n",
       "      <td>57</td>\n",
       "      <td>3.5</td>\n",
       "      <td>2.9</td>\n",
       "      <td>149</td>\n",
       "      <td>2</td>\n",
       "      <td>1</td>\n",
       "    </tr>\n",
       "    <tr>\n",
       "      <th>198</th>\n",
       "      <td>73</td>\n",
       "      <td>61</td>\n",
       "      <td>3.6</td>\n",
       "      <td>2.8</td>\n",
       "      <td>151</td>\n",
       "      <td>1</td>\n",
       "      <td>1</td>\n",
       "    </tr>\n",
       "  </tbody>\n",
       "</table>\n",
       "<p>199 rows × 7 columns</p>\n",
       "</div>"
      ],
      "text/plain": [
       "     CurrentMilk  Previous  Fat  Protein  Days  Lactation  I79\n",
       "0             45        45  5.5      8.9    21          5    0\n",
       "1             86        86  4.4      4.1    25          4    0\n",
       "2             50        50  6.5      4.0    25          7    0\n",
       "3             42        42  7.4      4.1    25          2    0\n",
       "4             61        61  3.8      3.8    33          2    0\n",
       "..           ...       ...  ...      ...   ...        ...  ...\n",
       "194           89        89  3.3      3.0   149          2    1\n",
       "195           68        69  3.5      3.4   149          2    1\n",
       "196           55        54  5.9      3.4   149          1    1\n",
       "197           47        57  3.5      2.9   149          2    1\n",
       "198           73        61  3.6      2.8   151          1    1\n",
       "\n",
       "[199 rows x 7 columns]"
      ]
     },
     "execution_count": 55,
     "metadata": {},
     "output_type": "execute_result"
    }
   ],
   "source": [
    "milkdata"
   ]
  },
  {
   "cell_type": "code",
   "execution_count": 56,
   "metadata": {},
   "outputs": [
    {
     "name": "stdout",
     "output_type": "stream",
     "text": [
      "CurrentMilk     23.00\n",
      "Previous        20.00\n",
      "Fat              0.95\n",
      "Protein          0.50\n",
      "Days           103.50\n",
      "Lactation        2.00\n",
      "dtype: float64\n"
     ]
    }
   ],
   "source": [
    "milkdata1=milkdata.drop('I79',axis=1)\n",
    "Q1 = milkdata1.quantile(0.25)\n",
    "Q3 = milkdata1.quantile(0.75)\n",
    "IQR = Q3 - Q1\n",
    "print(IQR)"
   ]
  },
  {
   "cell_type": "code",
   "execution_count": 57,
   "metadata": {},
   "outputs": [
    {
     "name": "stdout",
     "output_type": "stream",
     "text": [
      "2.8\n",
      "4.7\n"
     ]
    }
   ],
   "source": [
    "print(milkdata1['Fat'].quantile(0.10))\n",
    "print(milkdata1['Fat'].quantile(0.90))"
   ]
  },
  {
   "cell_type": "code",
   "execution_count": 58,
   "metadata": {
    "scrolled": true
   },
   "outputs": [
    {
     "name": "stdout",
     "output_type": "stream",
     "text": [
      "0.20496147139552073\n"
     ]
    }
   ],
   "source": [
    "milkdata['Fat'] = np.where(milkdata['Fat'] <2.8, 2.8,milkdata['Fat'])\n",
    "milkdata['Fat']= np.where(milkdata['Fat'] >4.7, 4.7,milkdata['Fat'])\n",
    "print(milkdata['Fat'].skew())"
   ]
  },
  {
   "cell_type": "code",
   "execution_count": 59,
   "metadata": {},
   "outputs": [
    {
     "name": "stdout",
     "output_type": "stream",
     "text": [
      "2.8\n",
      "3.6\n"
     ]
    }
   ],
   "source": [
    "print(milkdata1['Protein'].quantile(0.10))\n",
    "print(milkdata1['Protein'].quantile(0.90))"
   ]
  },
  {
   "cell_type": "code",
   "execution_count": 60,
   "metadata": {},
   "outputs": [
    {
     "name": "stdout",
     "output_type": "stream",
     "text": [
      "0.17787701201404774\n"
     ]
    }
   ],
   "source": [
    "milkdata['Protein'] = np.where(milkdata['Protein'] <2.8, 2.8,milkdata['Protein'])\n",
    "milkdata['Protein']= np.where(milkdata['Protein'] >3.6, 3.6,milkdata['Protein'])\n",
    "print(milkdata['Protein'].skew())"
   ]
  },
  {
   "cell_type": "code",
   "execution_count": 61,
   "metadata": {},
   "outputs": [
    {
     "name": "stdout",
     "output_type": "stream",
     "text": [
      "1.0\n",
      "4.0\n"
     ]
    }
   ],
   "source": [
    "print(milkdata1['Lactation'].quantile(0.10))\n",
    "print(milkdata1['Lactation'].quantile(0.90))"
   ]
  },
  {
   "cell_type": "code",
   "execution_count": 62,
   "metadata": {
    "scrolled": true
   },
   "outputs": [
    {
     "name": "stdout",
     "output_type": "stream",
     "text": [
      "0.7053081727917514\n"
     ]
    }
   ],
   "source": [
    "milkdata['Lactation'] = np.where(milkdata['Lactation'] <1.0, 1.0,milkdata['Lactation'])\n",
    "milkdata['Lactation']= np.where(milkdata['Lactation'] >4.0, 4.0,milkdata['Lactation'])\n",
    "print(milkdata['Lactation'].skew())"
   ]
  },
  {
   "cell_type": "markdown",
   "metadata": {},
   "source": [
    "#### We have removed outliers by capping and flooring.Now the distribution of these variables are near normal."
   ]
  },
  {
   "cell_type": "markdown",
   "metadata": {},
   "source": [
    "###### Converting I79 to Categorical variable and later dummy encoding it for better understanding of code"
   ]
  },
  {
   "cell_type": "code",
   "execution_count": 63,
   "metadata": {},
   "outputs": [
    {
     "data": {
      "text/html": [
       "<div>\n",
       "<style scoped>\n",
       "    .dataframe tbody tr th:only-of-type {\n",
       "        vertical-align: middle;\n",
       "    }\n",
       "\n",
       "    .dataframe tbody tr th {\n",
       "        vertical-align: top;\n",
       "    }\n",
       "\n",
       "    .dataframe thead th {\n",
       "        text-align: right;\n",
       "    }\n",
       "</style>\n",
       "<table border=\"1\" class=\"dataframe\">\n",
       "  <thead>\n",
       "    <tr style=\"text-align: right;\">\n",
       "      <th></th>\n",
       "      <th>CurrentMilk</th>\n",
       "      <th>Previous</th>\n",
       "      <th>Fat</th>\n",
       "      <th>Protein</th>\n",
       "      <th>Days</th>\n",
       "      <th>Lactation</th>\n",
       "      <th>I79</th>\n",
       "    </tr>\n",
       "  </thead>\n",
       "  <tbody>\n",
       "    <tr>\n",
       "      <th>count</th>\n",
       "      <td>199.000000</td>\n",
       "      <td>199.000000</td>\n",
       "      <td>199.000000</td>\n",
       "      <td>199.000000</td>\n",
       "      <td>199.000000</td>\n",
       "      <td>199.000000</td>\n",
       "      <td>199.000000</td>\n",
       "    </tr>\n",
       "    <tr>\n",
       "      <th>mean</th>\n",
       "      <td>64.819095</td>\n",
       "      <td>62.603015</td>\n",
       "      <td>3.658291</td>\n",
       "      <td>3.158141</td>\n",
       "      <td>155.055276</td>\n",
       "      <td>2.075377</td>\n",
       "      <td>0.849246</td>\n",
       "    </tr>\n",
       "    <tr>\n",
       "      <th>std</th>\n",
       "      <td>18.129095</td>\n",
       "      <td>16.790696</td>\n",
       "      <td>0.613336</td>\n",
       "      <td>0.260091</td>\n",
       "      <td>68.280482</td>\n",
       "      <td>1.077477</td>\n",
       "      <td>0.358711</td>\n",
       "    </tr>\n",
       "    <tr>\n",
       "      <th>min</th>\n",
       "      <td>14.000000</td>\n",
       "      <td>17.000000</td>\n",
       "      <td>2.800000</td>\n",
       "      <td>2.800000</td>\n",
       "      <td>21.000000</td>\n",
       "      <td>1.000000</td>\n",
       "      <td>0.000000</td>\n",
       "    </tr>\n",
       "    <tr>\n",
       "      <th>25%</th>\n",
       "      <td>54.000000</td>\n",
       "      <td>53.000000</td>\n",
       "      <td>3.150000</td>\n",
       "      <td>2.900000</td>\n",
       "      <td>105.000000</td>\n",
       "      <td>1.000000</td>\n",
       "      <td>1.000000</td>\n",
       "    </tr>\n",
       "    <tr>\n",
       "      <th>50%</th>\n",
       "      <td>64.000000</td>\n",
       "      <td>62.000000</td>\n",
       "      <td>3.600000</td>\n",
       "      <td>3.200000</td>\n",
       "      <td>149.000000</td>\n",
       "      <td>2.000000</td>\n",
       "      <td>1.000000</td>\n",
       "    </tr>\n",
       "    <tr>\n",
       "      <th>75%</th>\n",
       "      <td>77.000000</td>\n",
       "      <td>73.000000</td>\n",
       "      <td>4.100000</td>\n",
       "      <td>3.400000</td>\n",
       "      <td>208.500000</td>\n",
       "      <td>3.000000</td>\n",
       "      <td>1.000000</td>\n",
       "    </tr>\n",
       "    <tr>\n",
       "      <th>max</th>\n",
       "      <td>113.000000</td>\n",
       "      <td>104.000000</td>\n",
       "      <td>4.700000</td>\n",
       "      <td>3.600000</td>\n",
       "      <td>301.000000</td>\n",
       "      <td>4.000000</td>\n",
       "      <td>1.000000</td>\n",
       "    </tr>\n",
       "  </tbody>\n",
       "</table>\n",
       "</div>"
      ],
      "text/plain": [
       "       CurrentMilk    Previous         Fat     Protein        Days  \\\n",
       "count   199.000000  199.000000  199.000000  199.000000  199.000000   \n",
       "mean     64.819095   62.603015    3.658291    3.158141  155.055276   \n",
       "std      18.129095   16.790696    0.613336    0.260091   68.280482   \n",
       "min      14.000000   17.000000    2.800000    2.800000   21.000000   \n",
       "25%      54.000000   53.000000    3.150000    2.900000  105.000000   \n",
       "50%      64.000000   62.000000    3.600000    3.200000  149.000000   \n",
       "75%      77.000000   73.000000    4.100000    3.400000  208.500000   \n",
       "max     113.000000  104.000000    4.700000    3.600000  301.000000   \n",
       "\n",
       "        Lactation         I79  \n",
       "count  199.000000  199.000000  \n",
       "mean     2.075377    0.849246  \n",
       "std      1.077477    0.358711  \n",
       "min      1.000000    0.000000  \n",
       "25%      1.000000    1.000000  \n",
       "50%      2.000000    1.000000  \n",
       "75%      3.000000    1.000000  \n",
       "max      4.000000    1.000000  "
      ]
     },
     "execution_count": 63,
     "metadata": {},
     "output_type": "execute_result"
    }
   ],
   "source": [
    "milkdata.describe()"
   ]
  },
  {
   "cell_type": "code",
   "execution_count": 64,
   "metadata": {
    "scrolled": true
   },
   "outputs": [
    {
     "data": {
      "text/plain": [
       "CurrentMilk   -0.160819\n",
       "Previous      -0.066733\n",
       "Fat            0.204961\n",
       "Protein        0.177877\n",
       "Days           0.245063\n",
       "Lactation      0.705308\n",
       "I79           -1.966997\n",
       "dtype: float64"
      ]
     },
     "execution_count": 64,
     "metadata": {},
     "output_type": "execute_result"
    }
   ],
   "source": [
    "milkdata.skew(axis=0)"
   ]
  },
  {
   "cell_type": "code",
   "execution_count": 65,
   "metadata": {},
   "outputs": [
    {
     "data": {
      "text/html": [
       "<div>\n",
       "<style scoped>\n",
       "    .dataframe tbody tr th:only-of-type {\n",
       "        vertical-align: middle;\n",
       "    }\n",
       "\n",
       "    .dataframe tbody tr th {\n",
       "        vertical-align: top;\n",
       "    }\n",
       "\n",
       "    .dataframe thead th {\n",
       "        text-align: right;\n",
       "    }\n",
       "</style>\n",
       "<table border=\"1\" class=\"dataframe\">\n",
       "  <thead>\n",
       "    <tr style=\"text-align: right;\">\n",
       "      <th></th>\n",
       "      <th>CurrentMilk</th>\n",
       "      <th>Previous</th>\n",
       "      <th>Fat</th>\n",
       "      <th>Protein</th>\n",
       "      <th>Days</th>\n",
       "      <th>Lactation</th>\n",
       "      <th>I79</th>\n",
       "    </tr>\n",
       "  </thead>\n",
       "  <tbody>\n",
       "    <tr>\n",
       "      <th>CurrentMilk</th>\n",
       "      <td>1.000000</td>\n",
       "      <td>0.744579</td>\n",
       "      <td>-0.117107</td>\n",
       "      <td>-0.354983</td>\n",
       "      <td>-0.468121</td>\n",
       "      <td>0.123854</td>\n",
       "      <td>-0.279918</td>\n",
       "    </tr>\n",
       "    <tr>\n",
       "      <th>Previous</th>\n",
       "      <td>0.744579</td>\n",
       "      <td>1.000000</td>\n",
       "      <td>-0.161546</td>\n",
       "      <td>-0.306036</td>\n",
       "      <td>-0.317563</td>\n",
       "      <td>0.090382</td>\n",
       "      <td>-0.015018</td>\n",
       "    </tr>\n",
       "    <tr>\n",
       "      <th>Fat</th>\n",
       "      <td>-0.117107</td>\n",
       "      <td>-0.161546</td>\n",
       "      <td>1.000000</td>\n",
       "      <td>0.396849</td>\n",
       "      <td>-0.056295</td>\n",
       "      <td>0.096320</td>\n",
       "      <td>-0.072524</td>\n",
       "    </tr>\n",
       "    <tr>\n",
       "      <th>Protein</th>\n",
       "      <td>-0.354983</td>\n",
       "      <td>-0.306036</td>\n",
       "      <td>0.396849</td>\n",
       "      <td>1.000000</td>\n",
       "      <td>0.061427</td>\n",
       "      <td>0.192440</td>\n",
       "      <td>-0.098664</td>\n",
       "    </tr>\n",
       "    <tr>\n",
       "      <th>Days</th>\n",
       "      <td>-0.468121</td>\n",
       "      <td>-0.317563</td>\n",
       "      <td>-0.056295</td>\n",
       "      <td>0.061427</td>\n",
       "      <td>1.000000</td>\n",
       "      <td>-0.095826</td>\n",
       "      <td>0.615237</td>\n",
       "    </tr>\n",
       "    <tr>\n",
       "      <th>Lactation</th>\n",
       "      <td>0.123854</td>\n",
       "      <td>0.090382</td>\n",
       "      <td>0.096320</td>\n",
       "      <td>0.192440</td>\n",
       "      <td>-0.095826</td>\n",
       "      <td>1.000000</td>\n",
       "      <td>-0.220497</td>\n",
       "    </tr>\n",
       "    <tr>\n",
       "      <th>I79</th>\n",
       "      <td>-0.279918</td>\n",
       "      <td>-0.015018</td>\n",
       "      <td>-0.072524</td>\n",
       "      <td>-0.098664</td>\n",
       "      <td>0.615237</td>\n",
       "      <td>-0.220497</td>\n",
       "      <td>1.000000</td>\n",
       "    </tr>\n",
       "  </tbody>\n",
       "</table>\n",
       "</div>"
      ],
      "text/plain": [
       "             CurrentMilk  Previous       Fat   Protein      Days  Lactation  \\\n",
       "CurrentMilk     1.000000  0.744579 -0.117107 -0.354983 -0.468121   0.123854   \n",
       "Previous        0.744579  1.000000 -0.161546 -0.306036 -0.317563   0.090382   \n",
       "Fat            -0.117107 -0.161546  1.000000  0.396849 -0.056295   0.096320   \n",
       "Protein        -0.354983 -0.306036  0.396849  1.000000  0.061427   0.192440   \n",
       "Days           -0.468121 -0.317563 -0.056295  0.061427  1.000000  -0.095826   \n",
       "Lactation       0.123854  0.090382  0.096320  0.192440 -0.095826   1.000000   \n",
       "I79            -0.279918 -0.015018 -0.072524 -0.098664  0.615237  -0.220497   \n",
       "\n",
       "                  I79  \n",
       "CurrentMilk -0.279918  \n",
       "Previous    -0.015018  \n",
       "Fat         -0.072524  \n",
       "Protein     -0.098664  \n",
       "Days         0.615237  \n",
       "Lactation   -0.220497  \n",
       "I79          1.000000  "
      ]
     },
     "execution_count": 65,
     "metadata": {},
     "output_type": "execute_result"
    }
   ],
   "source": [
    "temp.corr().transpose()"
   ]
  },
  {
   "cell_type": "code",
   "execution_count": 66,
   "metadata": {},
   "outputs": [
    {
     "data": {
      "text/html": [
       "<div>\n",
       "<style scoped>\n",
       "    .dataframe tbody tr th:only-of-type {\n",
       "        vertical-align: middle;\n",
       "    }\n",
       "\n",
       "    .dataframe tbody tr th {\n",
       "        vertical-align: top;\n",
       "    }\n",
       "\n",
       "    .dataframe thead th {\n",
       "        text-align: right;\n",
       "    }\n",
       "</style>\n",
       "<table border=\"1\" class=\"dataframe\">\n",
       "  <thead>\n",
       "    <tr style=\"text-align: right;\">\n",
       "      <th></th>\n",
       "      <th>CurrentMilk</th>\n",
       "      <th>Previous</th>\n",
       "      <th>Fat</th>\n",
       "      <th>Protein</th>\n",
       "      <th>Days</th>\n",
       "      <th>Lactation</th>\n",
       "      <th>I79</th>\n",
       "    </tr>\n",
       "  </thead>\n",
       "  <tbody>\n",
       "    <tr>\n",
       "      <th>CurrentMilk</th>\n",
       "      <td>1.000000</td>\n",
       "      <td>0.744579</td>\n",
       "      <td>-0.128498</td>\n",
       "      <td>-0.517995</td>\n",
       "      <td>-0.468121</td>\n",
       "      <td>0.117568</td>\n",
       "      <td>-0.279918</td>\n",
       "    </tr>\n",
       "    <tr>\n",
       "      <th>Previous</th>\n",
       "      <td>0.744579</td>\n",
       "      <td>1.000000</td>\n",
       "      <td>-0.150164</td>\n",
       "      <td>-0.432314</td>\n",
       "      <td>-0.317563</td>\n",
       "      <td>0.139848</td>\n",
       "      <td>-0.015018</td>\n",
       "    </tr>\n",
       "    <tr>\n",
       "      <th>Fat</th>\n",
       "      <td>-0.128498</td>\n",
       "      <td>-0.150164</td>\n",
       "      <td>1.000000</td>\n",
       "      <td>0.393330</td>\n",
       "      <td>0.004095</td>\n",
       "      <td>0.052164</td>\n",
       "      <td>-0.005768</td>\n",
       "    </tr>\n",
       "    <tr>\n",
       "      <th>Protein</th>\n",
       "      <td>-0.517995</td>\n",
       "      <td>-0.432314</td>\n",
       "      <td>0.393330</td>\n",
       "      <td>1.000000</td>\n",
       "      <td>0.282882</td>\n",
       "      <td>0.152427</td>\n",
       "      <td>0.047324</td>\n",
       "    </tr>\n",
       "    <tr>\n",
       "      <th>Days</th>\n",
       "      <td>-0.468121</td>\n",
       "      <td>-0.317563</td>\n",
       "      <td>0.004095</td>\n",
       "      <td>0.282882</td>\n",
       "      <td>1.000000</td>\n",
       "      <td>-0.076874</td>\n",
       "      <td>0.615237</td>\n",
       "    </tr>\n",
       "    <tr>\n",
       "      <th>Lactation</th>\n",
       "      <td>0.117568</td>\n",
       "      <td>0.139848</td>\n",
       "      <td>0.052164</td>\n",
       "      <td>0.152427</td>\n",
       "      <td>-0.076874</td>\n",
       "      <td>1.000000</td>\n",
       "      <td>-0.153392</td>\n",
       "    </tr>\n",
       "    <tr>\n",
       "      <th>I79</th>\n",
       "      <td>-0.279918</td>\n",
       "      <td>-0.015018</td>\n",
       "      <td>-0.005768</td>\n",
       "      <td>0.047324</td>\n",
       "      <td>0.615237</td>\n",
       "      <td>-0.153392</td>\n",
       "      <td>1.000000</td>\n",
       "    </tr>\n",
       "  </tbody>\n",
       "</table>\n",
       "</div>"
      ],
      "text/plain": [
       "             CurrentMilk  Previous       Fat   Protein      Days  Lactation  \\\n",
       "CurrentMilk     1.000000  0.744579 -0.128498 -0.517995 -0.468121   0.117568   \n",
       "Previous        0.744579  1.000000 -0.150164 -0.432314 -0.317563   0.139848   \n",
       "Fat            -0.128498 -0.150164  1.000000  0.393330  0.004095   0.052164   \n",
       "Protein        -0.517995 -0.432314  0.393330  1.000000  0.282882   0.152427   \n",
       "Days           -0.468121 -0.317563  0.004095  0.282882  1.000000  -0.076874   \n",
       "Lactation       0.117568  0.139848  0.052164  0.152427 -0.076874   1.000000   \n",
       "I79            -0.279918 -0.015018 -0.005768  0.047324  0.615237  -0.153392   \n",
       "\n",
       "                  I79  \n",
       "CurrentMilk -0.279918  \n",
       "Previous    -0.015018  \n",
       "Fat         -0.005768  \n",
       "Protein      0.047324  \n",
       "Days         0.615237  \n",
       "Lactation   -0.153392  \n",
       "I79          1.000000  "
      ]
     },
     "execution_count": 66,
     "metadata": {},
     "output_type": "execute_result"
    }
   ],
   "source": [
    "milkdata.corr().transpose()"
   ]
  },
  {
   "cell_type": "code",
   "execution_count": 25,
   "metadata": {
    "scrolled": false
   },
   "outputs": [
    {
     "name": "stderr",
     "output_type": "stream",
     "text": [
      "C:\\Anaconda\\lib\\site-packages\\seaborn\\distributions.py:369: UserWarning: Default bandwidth for data is 0; skipping density estimation.\n",
      "  warnings.warn(msg, UserWarning)\n"
     ]
    },
    {
     "data": {
      "text/plain": [
       "<seaborn.axisgrid.PairGrid at 0x222d5ceef40>"
      ]
     },
     "execution_count": 25,
     "metadata": {},
     "output_type": "execute_result"
    },
    {
     "data": {
      "image/png": "[encoded data removed]",
      "text/plain": [
       "<Figure size 1260x1260 with 56 Axes>"
      ]
     },
     "metadata": {
      "needs_background": "light"
     },
     "output_type": "display_data"
    }
   ],
   "source": [
    "import seaborn as sns\n",
    "sns.pairplot(milkdata,diag_kind='kde')"
   ]
  },
  {
   "cell_type": "code",
   "execution_count": 67,
   "metadata": {},
   "outputs": [
    {
     "data": {
      "text/plain": [
       "<matplotlib.axes._subplots.AxesSubplot at 0x222df1c2640>"
      ]
     },
     "execution_count": 67,
     "metadata": {},
     "output_type": "execute_result"
    },
    {
     "data": {
      "image/png": "[encoded data removed]",
      "text/plain": [
       "<Figure size 432x288 with 1 Axes>"
      ]
     },
     "metadata": {
      "needs_background": "light"
     },
     "output_type": "display_data"
    }
   ],
   "source": [
    "sns.regplot(x = \"Previous\",  \n",
    "            y = \"CurrentMilk\",  \n",
    "            data = milkdata\n",
    "            ) "
   ]
  },
  {
   "cell_type": "markdown",
   "metadata": {},
   "source": [
    "#### Current milk and Previous milk positively correlated(strong)"
   ]
  },
  {
   "cell_type": "code",
   "execution_count": 68,
   "metadata": {
    "scrolled": true
   },
   "outputs": [
    {
     "data": {
      "text/plain": [
       "<matplotlib.axes._subplots.AxesSubplot at 0x222df2257c0>"
      ]
     },
     "execution_count": 68,
     "metadata": {},
     "output_type": "execute_result"
    },
    {
     "data": {
      "image/png": "[encoded data removed]",
      "text/plain": [
       "<Figure size 432x288 with 1 Axes>"
      ]
     },
     "metadata": {
      "needs_background": "light"
     },
     "output_type": "display_data"
    }
   ],
   "source": [
    "sns.regplot(x = \"Days\",  \n",
    "            y = \"CurrentMilk\",  \n",
    "            data = milkdata,\n",
    "            dropna = True) "
   ]
  },
  {
   "cell_type": "markdown",
   "metadata": {},
   "source": [
    "#### Current milk and Days negatively correlated(medium)"
   ]
  },
  {
   "cell_type": "code",
   "execution_count": 69,
   "metadata": {},
   "outputs": [
    {
     "data": {
      "text/plain": [
       "<matplotlib.axes._subplots.AxesSubplot at 0x222df270a00>"
      ]
     },
     "execution_count": 69,
     "metadata": {},
     "output_type": "execute_result"
    },
    {
     "data": {
      "image/png": "[encoded data removed]",
      "text/plain": [
       "<Figure size 432x288 with 1 Axes>"
      ]
     },
     "metadata": {
      "needs_background": "light"
     },
     "output_type": "display_data"
    }
   ],
   "source": [
    "sns.regplot(x = \"Protein\",  \n",
    "            y = \"CurrentMilk\",  \n",
    "            data = milkdata\n",
    "            ) "
   ]
  },
  {
   "cell_type": "markdown",
   "metadata": {},
   "source": [
    "#### Current milk and Protein negatively correlated(weak)"
   ]
  },
  {
   "cell_type": "code",
   "execution_count": 70,
   "metadata": {
    "scrolled": true
   },
   "outputs": [
    {
     "data": {
      "text/plain": [
       "<matplotlib.axes._subplots.AxesSubplot at 0x222df2dd730>"
      ]
     },
     "execution_count": 70,
     "metadata": {},
     "output_type": "execute_result"
    },
    {
     "data": {
      "image/png": "[encoded data removed]",
      "text/plain": [
       "<Figure size 432x288 with 1 Axes>"
      ]
     },
     "metadata": {
      "needs_background": "light"
     },
     "output_type": "display_data"
    }
   ],
   "source": [
    "sns.regplot(x = \"I79\",  \n",
    "            y = \"CurrentMilk\",  \n",
    "            data = milkdata\n",
    "            ) "
   ]
  },
  {
   "cell_type": "markdown",
   "metadata": {},
   "source": [
    "#### Current milk and I79 negatively correlated(weak)"
   ]
  },
  {
   "cell_type": "code",
   "execution_count": 71,
   "metadata": {},
   "outputs": [
    {
     "data": {
      "text/plain": [
       "<matplotlib.axes._subplots.AxesSubplot at 0x222dcb51850>"
      ]
     },
     "execution_count": 71,
     "metadata": {},
     "output_type": "execute_result"
    },
    {
     "data": {
      "image/png": "[encoded data removed]",
      "text/plain": [
       "<Figure size 432x288 with 1 Axes>"
      ]
     },
     "metadata": {
      "needs_background": "light"
     },
     "output_type": "display_data"
    }
   ],
   "source": [
    "sns.regplot(x = \"Fat\",  \n",
    "            y = \"CurrentMilk\",  \n",
    "            data = milkdata\n",
    "            ) "
   ]
  },
  {
   "cell_type": "markdown",
   "metadata": {},
   "source": [
    "#### Current milk and Fat negatively correlated(weak)"
   ]
  },
  {
   "cell_type": "code",
   "execution_count": 72,
   "metadata": {
    "scrolled": true
   },
   "outputs": [
    {
     "data": {
      "text/plain": [
       "<matplotlib.axes._subplots.AxesSubplot at 0x222df2c9310>"
      ]
     },
     "execution_count": 72,
     "metadata": {},
     "output_type": "execute_result"
    },
    {
     "data": {
      "image/png": "[encoded data removed]",
      "text/plain": [
       "<Figure size 432x288 with 1 Axes>"
      ]
     },
     "metadata": {
      "needs_background": "light"
     },
     "output_type": "display_data"
    }
   ],
   "source": [
    "sns.regplot(x = \"Lactation\",  \n",
    "            y = \"CurrentMilk\",  \n",
    "            data = milkdata\n",
    "            ) "
   ]
  },
  {
   "cell_type": "markdown",
   "metadata": {},
   "source": [
    "#### Current milk and Lactation negatively correlated(weak)"
   ]
  },
  {
   "cell_type": "code",
   "execution_count": 73,
   "metadata": {},
   "outputs": [
    {
     "data": {
      "text/plain": [
       "-0.259586492813368"
      ]
     },
     "execution_count": 73,
     "metadata": {},
     "output_type": "execute_result"
    }
   ],
   "source": [
    "from scipy.stats import spearmanr\n",
    "coef, p = spearmanr(milkdata['I79'], milkdata['CurrentMilk'])\n",
    "coef"
   ]
  },
  {
   "cell_type": "code",
   "execution_count": 74,
   "metadata": {},
   "outputs": [
    {
     "name": "stdout",
     "output_type": "stream",
     "text": [
      "Samples are correlated (reject H0) p=0.000\n"
     ]
    }
   ],
   "source": [
    "alpha = 0.05\n",
    "if p > alpha:\n",
    "\tprint('Samples are uncorrelated (fail to reject H0) p=%.3f' % p)\n",
    "else:\n",
    "\tprint('Samples are correlated (reject H0) p=%.3f' % p)"
   ]
  },
  {
   "cell_type": "code",
   "execution_count": 75,
   "metadata": {},
   "outputs": [],
   "source": [
    "from statsmodels.stats.outliers_influence import variance_inflation_factor\n",
    "def calc_vif(X):\n",
    "    # Calculating VIF\n",
    "    vif = pd.DataFrame()\n",
    "    vif[\"variables\"] = X.columns\n",
    "    vif[\"VIF\"] = [variance_inflation_factor(X.values, i) for i in range(X.shape[1])]\n",
    "    return(vif)"
   ]
  },
  {
   "cell_type": "code",
   "execution_count": 76,
   "metadata": {
    "scrolled": true
   },
   "outputs": [
    {
     "data": {
      "text/html": [
       "<div>\n",
       "<style scoped>\n",
       "    .dataframe tbody tr th:only-of-type {\n",
       "        vertical-align: middle;\n",
       "    }\n",
       "\n",
       "    .dataframe tbody tr th {\n",
       "        vertical-align: top;\n",
       "    }\n",
       "\n",
       "    .dataframe thead th {\n",
       "        text-align: right;\n",
       "    }\n",
       "</style>\n",
       "<table border=\"1\" class=\"dataframe\">\n",
       "  <thead>\n",
       "    <tr style=\"text-align: right;\">\n",
       "      <th></th>\n",
       "      <th>variables</th>\n",
       "      <th>VIF</th>\n",
       "    </tr>\n",
       "  </thead>\n",
       "  <tbody>\n",
       "    <tr>\n",
       "      <th>0</th>\n",
       "      <td>Previous</td>\n",
       "      <td>12.041456</td>\n",
       "    </tr>\n",
       "    <tr>\n",
       "      <th>1</th>\n",
       "      <td>Fat</td>\n",
       "      <td>43.937362</td>\n",
       "    </tr>\n",
       "    <tr>\n",
       "      <th>2</th>\n",
       "      <td>Protein</td>\n",
       "      <td>69.239948</td>\n",
       "    </tr>\n",
       "    <tr>\n",
       "      <th>3</th>\n",
       "      <td>Days</td>\n",
       "      <td>7.201749</td>\n",
       "    </tr>\n",
       "    <tr>\n",
       "      <th>4</th>\n",
       "      <td>Lactation</td>\n",
       "      <td>5.052605</td>\n",
       "    </tr>\n",
       "  </tbody>\n",
       "</table>\n",
       "</div>"
      ],
      "text/plain": [
       "   variables        VIF\n",
       "0   Previous  12.041456\n",
       "1        Fat  43.937362\n",
       "2    Protein  69.239948\n",
       "3       Days   7.201749\n",
       "4  Lactation   5.052605"
      ]
     },
     "execution_count": 76,
     "metadata": {},
     "output_type": "execute_result"
    }
   ],
   "source": [
    "X = milkdata.iloc[:,1:-1]\n",
    "calc_vif(X)"
   ]
  },
  {
   "cell_type": "markdown",
   "metadata": {},
   "source": [
    "### Analysis of Variable Inflation factors shows multicollinearity among features"
   ]
  },
  {
   "cell_type": "markdown",
   "metadata": {},
   "source": [
    "#### Segregating variables: Independent and Dependent Variables"
   ]
  },
  {
   "cell_type": "code",
   "execution_count": 77,
   "metadata": {},
   "outputs": [],
   "source": [
    "encodeddata=milkdata"
   ]
  },
  {
   "cell_type": "code",
   "execution_count": 78,
   "metadata": {},
   "outputs": [
    {
     "data": {
      "text/html": [
       "<div>\n",
       "<style scoped>\n",
       "    .dataframe tbody tr th:only-of-type {\n",
       "        vertical-align: middle;\n",
       "    }\n",
       "\n",
       "    .dataframe tbody tr th {\n",
       "        vertical-align: top;\n",
       "    }\n",
       "\n",
       "    .dataframe thead th {\n",
       "        text-align: right;\n",
       "    }\n",
       "</style>\n",
       "<table border=\"1\" class=\"dataframe\">\n",
       "  <thead>\n",
       "    <tr style=\"text-align: right;\">\n",
       "      <th></th>\n",
       "      <th>Previous</th>\n",
       "      <th>Fat</th>\n",
       "      <th>Protein</th>\n",
       "      <th>Days</th>\n",
       "      <th>Lactation</th>\n",
       "      <th>I79</th>\n",
       "    </tr>\n",
       "  </thead>\n",
       "  <tbody>\n",
       "    <tr>\n",
       "      <th>0</th>\n",
       "      <td>45</td>\n",
       "      <td>4.7</td>\n",
       "      <td>3.6</td>\n",
       "      <td>21</td>\n",
       "      <td>4.0</td>\n",
       "      <td>0</td>\n",
       "    </tr>\n",
       "    <tr>\n",
       "      <th>1</th>\n",
       "      <td>86</td>\n",
       "      <td>4.4</td>\n",
       "      <td>3.6</td>\n",
       "      <td>25</td>\n",
       "      <td>4.0</td>\n",
       "      <td>0</td>\n",
       "    </tr>\n",
       "    <tr>\n",
       "      <th>2</th>\n",
       "      <td>50</td>\n",
       "      <td>4.7</td>\n",
       "      <td>3.6</td>\n",
       "      <td>25</td>\n",
       "      <td>4.0</td>\n",
       "      <td>0</td>\n",
       "    </tr>\n",
       "    <tr>\n",
       "      <th>3</th>\n",
       "      <td>42</td>\n",
       "      <td>4.7</td>\n",
       "      <td>3.6</td>\n",
       "      <td>25</td>\n",
       "      <td>2.0</td>\n",
       "      <td>0</td>\n",
       "    </tr>\n",
       "    <tr>\n",
       "      <th>4</th>\n",
       "      <td>61</td>\n",
       "      <td>3.8</td>\n",
       "      <td>3.6</td>\n",
       "      <td>33</td>\n",
       "      <td>2.0</td>\n",
       "      <td>0</td>\n",
       "    </tr>\n",
       "    <tr>\n",
       "      <th>...</th>\n",
       "      <td>...</td>\n",
       "      <td>...</td>\n",
       "      <td>...</td>\n",
       "      <td>...</td>\n",
       "      <td>...</td>\n",
       "      <td>...</td>\n",
       "    </tr>\n",
       "    <tr>\n",
       "      <th>194</th>\n",
       "      <td>89</td>\n",
       "      <td>3.3</td>\n",
       "      <td>3.0</td>\n",
       "      <td>149</td>\n",
       "      <td>2.0</td>\n",
       "      <td>1</td>\n",
       "    </tr>\n",
       "    <tr>\n",
       "      <th>195</th>\n",
       "      <td>69</td>\n",
       "      <td>3.5</td>\n",
       "      <td>3.4</td>\n",
       "      <td>149</td>\n",
       "      <td>2.0</td>\n",
       "      <td>1</td>\n",
       "    </tr>\n",
       "    <tr>\n",
       "      <th>196</th>\n",
       "      <td>54</td>\n",
       "      <td>4.7</td>\n",
       "      <td>3.4</td>\n",
       "      <td>149</td>\n",
       "      <td>1.0</td>\n",
       "      <td>1</td>\n",
       "    </tr>\n",
       "    <tr>\n",
       "      <th>197</th>\n",
       "      <td>57</td>\n",
       "      <td>3.5</td>\n",
       "      <td>2.9</td>\n",
       "      <td>149</td>\n",
       "      <td>2.0</td>\n",
       "      <td>1</td>\n",
       "    </tr>\n",
       "    <tr>\n",
       "      <th>198</th>\n",
       "      <td>61</td>\n",
       "      <td>3.6</td>\n",
       "      <td>2.8</td>\n",
       "      <td>151</td>\n",
       "      <td>1.0</td>\n",
       "      <td>1</td>\n",
       "    </tr>\n",
       "  </tbody>\n",
       "</table>\n",
       "<p>199 rows × 6 columns</p>\n",
       "</div>"
      ],
      "text/plain": [
       "     Previous  Fat  Protein  Days  Lactation  I79\n",
       "0          45  4.7      3.6    21        4.0    0\n",
       "1          86  4.4      3.6    25        4.0    0\n",
       "2          50  4.7      3.6    25        4.0    0\n",
       "3          42  4.7      3.6    25        2.0    0\n",
       "4          61  3.8      3.6    33        2.0    0\n",
       "..        ...  ...      ...   ...        ...  ...\n",
       "194        89  3.3      3.0   149        2.0    1\n",
       "195        69  3.5      3.4   149        2.0    1\n",
       "196        54  4.7      3.4   149        1.0    1\n",
       "197        57  3.5      2.9   149        2.0    1\n",
       "198        61  3.6      2.8   151        1.0    1\n",
       "\n",
       "[199 rows x 6 columns]"
      ]
     },
     "execution_count": 78,
     "metadata": {},
     "output_type": "execute_result"
    }
   ],
   "source": [
    "#seperating independent and dependent variables\n",
    "x = encodeddata.drop(['CurrentMilk'], axis=1)\n",
    "y = encodeddata['CurrentMilk']\n",
    "x.shape, y.shape\n",
    "features=x\n",
    "features"
   ]
  },
  {
   "cell_type": "markdown",
   "metadata": {},
   "source": [
    "#### Splitting into train and test for validation"
   ]
  },
  {
   "cell_type": "code",
   "execution_count": 79,
   "metadata": {},
   "outputs": [],
   "source": [
    "from sklearn.model_selection import train_test_split\n",
    "train_x,test_x,train_y,test_y=train_test_split(x,y,random_state=42)"
   ]
  },
  {
   "cell_type": "code",
   "execution_count": 80,
   "metadata": {},
   "outputs": [
    {
     "data": {
      "text/html": [
       "<div>\n",
       "<style scoped>\n",
       "    .dataframe tbody tr th:only-of-type {\n",
       "        vertical-align: middle;\n",
       "    }\n",
       "\n",
       "    .dataframe tbody tr th {\n",
       "        vertical-align: top;\n",
       "    }\n",
       "\n",
       "    .dataframe thead th {\n",
       "        text-align: right;\n",
       "    }\n",
       "</style>\n",
       "<table border=\"1\" class=\"dataframe\">\n",
       "  <thead>\n",
       "    <tr style=\"text-align: right;\">\n",
       "      <th></th>\n",
       "      <th>Previous</th>\n",
       "      <th>Fat</th>\n",
       "      <th>Protein</th>\n",
       "      <th>Days</th>\n",
       "      <th>Lactation</th>\n",
       "      <th>I79</th>\n",
       "    </tr>\n",
       "  </thead>\n",
       "  <tbody>\n",
       "    <tr>\n",
       "      <th>56</th>\n",
       "      <td>51</td>\n",
       "      <td>4.3</td>\n",
       "      <td>3.6</td>\n",
       "      <td>261</td>\n",
       "      <td>4.0</td>\n",
       "      <td>1</td>\n",
       "    </tr>\n",
       "    <tr>\n",
       "      <th>5</th>\n",
       "      <td>93</td>\n",
       "      <td>4.2</td>\n",
       "      <td>3.0</td>\n",
       "      <td>45</td>\n",
       "      <td>3.0</td>\n",
       "      <td>0</td>\n",
       "    </tr>\n",
       "    <tr>\n",
       "      <th>122</th>\n",
       "      <td>57</td>\n",
       "      <td>3.3</td>\n",
       "      <td>2.8</td>\n",
       "      <td>213</td>\n",
       "      <td>1.0</td>\n",
       "      <td>1</td>\n",
       "    </tr>\n",
       "    <tr>\n",
       "      <th>113</th>\n",
       "      <td>47</td>\n",
       "      <td>3.6</td>\n",
       "      <td>3.6</td>\n",
       "      <td>200</td>\n",
       "      <td>2.0</td>\n",
       "      <td>1</td>\n",
       "    </tr>\n",
       "    <tr>\n",
       "      <th>93</th>\n",
       "      <td>62</td>\n",
       "      <td>4.1</td>\n",
       "      <td>3.0</td>\n",
       "      <td>172</td>\n",
       "      <td>2.0</td>\n",
       "      <td>1</td>\n",
       "    </tr>\n",
       "    <tr>\n",
       "      <th>...</th>\n",
       "      <td>...</td>\n",
       "      <td>...</td>\n",
       "      <td>...</td>\n",
       "      <td>...</td>\n",
       "      <td>...</td>\n",
       "      <td>...</td>\n",
       "    </tr>\n",
       "    <tr>\n",
       "      <th>106</th>\n",
       "      <td>60</td>\n",
       "      <td>4.2</td>\n",
       "      <td>3.6</td>\n",
       "      <td>183</td>\n",
       "      <td>2.0</td>\n",
       "      <td>1</td>\n",
       "    </tr>\n",
       "    <tr>\n",
       "      <th>14</th>\n",
       "      <td>81</td>\n",
       "      <td>2.9</td>\n",
       "      <td>2.8</td>\n",
       "      <td>59</td>\n",
       "      <td>4.0</td>\n",
       "      <td>0</td>\n",
       "    </tr>\n",
       "    <tr>\n",
       "      <th>92</th>\n",
       "      <td>53</td>\n",
       "      <td>4.0</td>\n",
       "      <td>3.3</td>\n",
       "      <td>169</td>\n",
       "      <td>4.0</td>\n",
       "      <td>1</td>\n",
       "    </tr>\n",
       "    <tr>\n",
       "      <th>179</th>\n",
       "      <td>64</td>\n",
       "      <td>2.9</td>\n",
       "      <td>3.4</td>\n",
       "      <td>138</td>\n",
       "      <td>2.0</td>\n",
       "      <td>1</td>\n",
       "    </tr>\n",
       "    <tr>\n",
       "      <th>102</th>\n",
       "      <td>66</td>\n",
       "      <td>4.4</td>\n",
       "      <td>3.3</td>\n",
       "      <td>180</td>\n",
       "      <td>1.0</td>\n",
       "      <td>1</td>\n",
       "    </tr>\n",
       "  </tbody>\n",
       "</table>\n",
       "<p>149 rows × 6 columns</p>\n",
       "</div>"
      ],
      "text/plain": [
       "     Previous  Fat  Protein  Days  Lactation  I79\n",
       "56         51  4.3      3.6   261        4.0    1\n",
       "5          93  4.2      3.0    45        3.0    0\n",
       "122        57  3.3      2.8   213        1.0    1\n",
       "113        47  3.6      3.6   200        2.0    1\n",
       "93         62  4.1      3.0   172        2.0    1\n",
       "..        ...  ...      ...   ...        ...  ...\n",
       "106        60  4.2      3.6   183        2.0    1\n",
       "14         81  2.9      2.8    59        4.0    0\n",
       "92         53  4.0      3.3   169        4.0    1\n",
       "179        64  2.9      3.4   138        2.0    1\n",
       "102        66  4.4      3.3   180        1.0    1\n",
       "\n",
       "[149 rows x 6 columns]"
      ]
     },
     "execution_count": 80,
     "metadata": {},
     "output_type": "execute_result"
    }
   ],
   "source": [
    "train_x"
   ]
  },
  {
   "cell_type": "code",
   "execution_count": 81,
   "metadata": {},
   "outputs": [],
   "source": [
    "# Creating instance of Linear Regresssion\n",
    "lr = LR()"
   ]
  },
  {
   "cell_type": "markdown",
   "metadata": {},
   "source": [
    "#### This function is to interpret the coefficients"
   ]
  },
  {
   "cell_type": "code",
   "execution_count": 82,
   "metadata": {},
   "outputs": [],
   "source": [
    "def plot_coefficients(coeff,col):\n",
    "# Using matplotlib commands to plot\n",
    "    plt.figure(figsize=(10,6))\n",
    "    plt.plot(range(len(coeff)),coeff)\n",
    "    plt.axhline(0, color='r', linestyle='solid')\n",
    "    plt.xticks(range(len(col)),col,rotation=50)\n",
    "    plt.ylabel(\"coefficients\")\n",
    "    plt.xlabel(\"features\")\n",
    "    plt.show()\n"
   ]
  },
  {
   "cell_type": "markdown",
   "metadata": {},
   "source": [
    "#### Multiple Linear Regression"
   ]
  },
  {
   "cell_type": "code",
   "execution_count": 85,
   "metadata": {
    "scrolled": false
   },
   "outputs": [
    {
     "name": "stdout",
     "output_type": "stream",
     "text": [
      "Mean RMSE of Multiple Linear Regression as baseline model: -9.98353072456201\n",
      "[12.24146396 -0.12126466 -3.5982653  -1.61480619 -0.54558815 -9.86524101]\n"
     ]
    },
    {
     "data": {
      "image/png": "[encoded data removed]",
      "text/plain": [
       "<Figure size 720x432 with 1 Axes>"
      ]
     },
     "metadata": {
      "needs_background": "light"
     },
     "output_type": "display_data"
    }
   ],
   "source": [
    "cv = RepeatedKFold(n_splits=10, n_repeats=3, random_state=42)\n",
    "sca_ix = [0,1,2,3,4]\n",
    "cat_ix = [5]\n",
    "# define the selective transforms\n",
    "t = [('e', StandardScaler(), sca_ix)]\n",
    "selective = ColumnTransformer(transformers=t, remainder='passthrough')\n",
    "model = LinearRegression()\n",
    "pipeline = Pipeline(steps=[('sca',selective), ('la', model)])\n",
    "pipeline.fit(train_x, train_y)\n",
    "scores = cross_val_score(pipeline, train_x, train_y, scoring='neg_root_mean_squared_error', cv=cv)\n",
    "print(\"Mean RMSE of Multiple Linear Regression as baseline model:\",scores.mean())\n",
    "print(pipeline.named_steps['la'].coef_)\n",
    "plot_coefficients(pipeline.named_steps['la'].coef_,train_x.columns)"
   ]
  },
  {
   "cell_type": "markdown",
   "metadata": {},
   "source": [
    "### Mean RMSE of baseline model(plain Multiple Linear Regression:9.98"
   ]
  },
  {
   "cell_type": "markdown",
   "metadata": {},
   "source": [
    "#### Function to tune hyperparameters as well as for feature selection"
   ]
  },
  {
   "cell_type": "code",
   "execution_count": 86,
   "metadata": {},
   "outputs": [],
   "source": [
    "def tune_algorithm(algo,train_x,train_y,test_x,name):\n",
    "    \n",
    "    from sklearn.compose import ColumnTransformer\n",
    "    cv = RepeatedKFold(n_splits=10, n_repeats=3, random_state=42)\n",
    "    fs = SelectKBest(score_func=mutual_info_regression)\n",
    "    sca_ix = [0,1,2,3,4]\n",
    "    cat_ix = [5]\n",
    "    # define the selective transforms\n",
    "    t = [('e', StandardScaler(), sca_ix)]\n",
    "    selective = ColumnTransformer(transformers=t, remainder='passthrough')\n",
    "    pipeline = Pipeline(steps=[('se',selective),('sel',fs), ('lr', algo)])\n",
    "    # define the grid\n",
    "    grid = dict()\n",
    "    grid['sel__k'] = [i for i in range(1,7)]\n",
    "    if name=='la':\n",
    "        grid['lr__alpha'] = [5, 0.5, 0.05, 0.005, 0.0005, 1, 0.1, 0.01,0.001, 0.0001 ]\n",
    "    elif name=='pls' :\n",
    "        grid['lr__n_components'] = [1,2,3,4,5,6]\n",
    "    # define the grid search\n",
    "    search = GridSearchCV(pipeline, grid, scoring='neg_root_mean_squared_error', n_jobs=-1, cv=cv)\n",
    "    # perform the search\n",
    "    #model = TransformedTargetRegressor(regressor=search, transformer=StandardScaler())\n",
    "    results = search.fit(train_x, train_y)\n",
    "    # summarize best\n",
    "    print('Best RMSE: %.3f' % results.best_score_)\n",
    "    print('Best Config: %s' % results.best_params_)\n",
    "    print('Best estimator:',results.best_estimator_)\n",
    "    means = results.cv_results_['mean_test_score']\n",
    "    params = results.cv_results_['params']\n",
    "    for mean, param in zip(means, params):\n",
    "        print(\">%.3f with: %r\" % (mean, param))\n",
    "    test_pred=search.predict(test_x)\n",
    "    print(results.best_estimator_.named_steps['sel'].get_support())\n",
    "    print(results.best_estimator_.named_steps['lr'].coef_)\n",
    "    plot_coefficients(results.best_estimator_.named_steps['lr'].coef_,train_x.columns)\n",
    "    print(test_pred)"
   ]
  },
  {
   "cell_type": "markdown",
   "metadata": {},
   "source": [
    "### Feature Selection for Linear Regression+Linear Regression using mutual info regression"
   ]
  },
  {
   "cell_type": "code",
   "execution_count": 88,
   "metadata": {},
   "outputs": [
    {
     "name": "stdout",
     "output_type": "stream",
     "text": [
      "Best RMSE: -9.909\n",
      "Best Config: {'sel__k': 5}\n",
      "Best estimator: Pipeline(steps=[('se',\n",
      "                 ColumnTransformer(remainder='passthrough',\n",
      "                                   transformers=[('e', StandardScaler(),\n",
      "                                                  [0, 1, 2, 3, 4])])),\n",
      "                ('sel',\n",
      "                 SelectKBest(k=5,\n",
      "                             score_func=<function mutual_info_regression at 0x00000222DAEC8280>)),\n",
      "                ('lr', LinearRegression())])\n",
      ">-11.116 with: {'sel__k': 1}\n",
      ">-10.516 with: {'sel__k': 2}\n",
      ">-10.056 with: {'sel__k': 3}\n",
      ">-10.137 with: {'sel__k': 4}\n",
      ">-9.909 with: {'sel__k': 5}\n",
      ">-9.984 with: {'sel__k': 6}\n",
      "[ True False  True  True  True  True]\n",
      "[12.23504269 -3.6618543  -1.59497624 -0.53388963 -9.88243031]\n"
     ]
    },
    {
     "data": {
      "image/png": "[encoded data removed]",
      "text/plain": [
       "<Figure size 720x432 with 1 Axes>"
      ]
     },
     "metadata": {
      "needs_background": "light"
     },
     "output_type": "display_data"
    },
    {
     "name": "stdout",
     "output_type": "stream",
     "text": [
      "[ 58.79795096  47.56689554  62.02949104  65.04582914  73.68482401\n",
      "  99.1919722   55.15147425  29.48232506  59.93388101  62.52024187\n",
      "  76.85164381  64.30909995  44.99794225  79.58266344  65.23290056\n",
      "  57.41920869  49.17324897  58.95914942  78.7200852   82.12874809\n",
      "  70.6227922   55.21945428  34.37739452  79.21321064  44.55828898\n",
      "  52.88075945  73.66574312  88.5556344  102.52012474  65.0767005\n",
      "  67.04664047  64.24815017  61.67858777  85.48060747  62.05403011\n",
      "  34.83813851  69.94459751  61.23982104  55.89929597  86.26932076\n",
      "  37.37534966  41.78406515  76.08415553  82.97040219  83.58840756\n",
      " 100.69564608  70.98892328  60.21452184  68.40164621  49.48677099]\n"
     ]
    }
   ],
   "source": [
    "tune_algorithm(lr,train_x,train_y,test_x,'lr')"
   ]
  },
  {
   "cell_type": "markdown",
   "metadata": {},
   "source": [
    "### Mean RMSE of Feature selection(SelectKBest)+Multiple Linear Regression:9.909\n",
    "\n",
    "### Best number of features k:5(preferably drop predictor variable Fat)\n"
   ]
  },
  {
   "cell_type": "markdown",
   "metadata": {},
   "source": [
    "### Feature Selection for Linear Regression+PLS Regression using mutual info regression"
   ]
  },
  {
   "cell_type": "code",
   "execution_count": 89,
   "metadata": {},
   "outputs": [
    {
     "name": "stdout",
     "output_type": "stream",
     "text": [
      "Best RMSE: -9.909\n",
      "Best Config: {'lr__n_components': 5, 'sel__k': 5}\n",
      "Best estimator: Pipeline(steps=[('se',\n",
      "                 ColumnTransformer(remainder='passthrough',\n",
      "                                   transformers=[('e', StandardScaler(),\n",
      "                                                  [0, 1, 2, 3, 4])])),\n",
      "                ('sel',\n",
      "                 SelectKBest(k=5,\n",
      "                             score_func=<function mutual_info_regression at 0x00000222DAEC8280>)),\n",
      "                ('lr', PLSRegression(n_components=5))])\n",
      ">-11.116 with: {'lr__n_components': 1, 'sel__k': 1}\n",
      ">-10.811 with: {'lr__n_components': 1, 'sel__k': 2}\n",
      ">-10.400 with: {'lr__n_components': 1, 'sel__k': 3}\n",
      ">-10.437 with: {'lr__n_components': 1, 'sel__k': 4}\n",
      ">-10.585 with: {'lr__n_components': 1, 'sel__k': 5}\n",
      ">-10.790 with: {'lr__n_components': 1, 'sel__k': 6}\n",
      ">nan with: {'lr__n_components': 2, 'sel__k': 1}\n",
      ">-10.448 with: {'lr__n_components': 2, 'sel__k': 2}\n",
      ">-10.068 with: {'lr__n_components': 2, 'sel__k': 3}\n",
      ">-10.136 with: {'lr__n_components': 2, 'sel__k': 4}\n",
      ">-10.076 with: {'lr__n_components': 2, 'sel__k': 5}\n",
      ">-10.084 with: {'lr__n_components': 2, 'sel__k': 6}\n",
      ">nan with: {'lr__n_components': 3, 'sel__k': 1}\n",
      ">nan with: {'lr__n_components': 3, 'sel__k': 2}\n",
      ">-10.074 with: {'lr__n_components': 3, 'sel__k': 3}\n",
      ">-10.121 with: {'lr__n_components': 3, 'sel__k': 4}\n",
      ">-9.926 with: {'lr__n_components': 3, 'sel__k': 5}\n",
      ">-10.030 with: {'lr__n_components': 3, 'sel__k': 6}\n",
      ">nan with: {'lr__n_components': 4, 'sel__k': 1}\n",
      ">nan with: {'lr__n_components': 4, 'sel__k': 2}\n",
      ">nan with: {'lr__n_components': 4, 'sel__k': 3}\n",
      ">-10.136 with: {'lr__n_components': 4, 'sel__k': 4}\n",
      ">-9.915 with: {'lr__n_components': 4, 'sel__k': 5}\n",
      ">-9.977 with: {'lr__n_components': 4, 'sel__k': 6}\n",
      ">nan with: {'lr__n_components': 5, 'sel__k': 1}\n",
      ">nan with: {'lr__n_components': 5, 'sel__k': 2}\n",
      ">nan with: {'lr__n_components': 5, 'sel__k': 3}\n",
      ">nan with: {'lr__n_components': 5, 'sel__k': 4}\n",
      ">-9.909 with: {'lr__n_components': 5, 'sel__k': 5}\n",
      ">-9.983 with: {'lr__n_components': 5, 'sel__k': 6}\n",
      ">nan with: {'lr__n_components': 6, 'sel__k': 1}\n",
      ">nan with: {'lr__n_components': 6, 'sel__k': 2}\n",
      ">nan with: {'lr__n_components': 6, 'sel__k': 3}\n",
      ">nan with: {'lr__n_components': 6, 'sel__k': 4}\n",
      ">nan with: {'lr__n_components': 6, 'sel__k': 5}\n",
      ">-9.984 with: {'lr__n_components': 6, 'sel__k': 6}\n",
      "[ True False  True  True  True  True]\n",
      "[[12.2763077 ]\n",
      " [-3.6742046 ]\n",
      " [-1.6003556 ]\n",
      " [-0.53569027]\n",
      " [-3.58252277]]\n"
     ]
    },
    {
     "data": {
      "image/png": "[encoded data removed]",
      "text/plain": [
       "<Figure size 720x432 with 1 Axes>"
      ]
     },
     "metadata": {
      "needs_background": "light"
     },
     "output_type": "display_data"
    },
    {
     "name": "stdout",
     "output_type": "stream",
     "text": [
      "[[ 58.79795096]\n",
      " [ 47.56689554]\n",
      " [ 62.02949104]\n",
      " [ 65.04582914]\n",
      " [ 73.68482401]\n",
      " [ 99.1919722 ]\n",
      " [ 55.15147425]\n",
      " [ 29.48232506]\n",
      " [ 59.93388101]\n",
      " [ 62.52024187]\n",
      " [ 76.85164381]\n",
      " [ 64.30909995]\n",
      " [ 44.99794225]\n",
      " [ 79.58266344]\n",
      " [ 65.23290056]\n",
      " [ 57.41920869]\n",
      " [ 49.17324897]\n",
      " [ 58.95914942]\n",
      " [ 78.7200852 ]\n",
      " [ 82.12874809]\n",
      " [ 70.6227922 ]\n",
      " [ 55.21945428]\n",
      " [ 34.37739452]\n",
      " [ 79.21321064]\n",
      " [ 44.55828898]\n",
      " [ 52.88075945]\n",
      " [ 73.66574312]\n",
      " [ 88.5556344 ]\n",
      " [102.52012474]\n",
      " [ 65.0767005 ]\n",
      " [ 67.04664047]\n",
      " [ 64.24815017]\n",
      " [ 61.67858777]\n",
      " [ 85.48060747]\n",
      " [ 62.05403011]\n",
      " [ 34.83813851]\n",
      " [ 69.94459751]\n",
      " [ 61.23982104]\n",
      " [ 55.89929597]\n",
      " [ 86.26932076]\n",
      " [ 37.37534966]\n",
      " [ 41.78406515]\n",
      " [ 76.08415553]\n",
      " [ 82.97040219]\n",
      " [ 83.58840756]\n",
      " [100.69564608]\n",
      " [ 70.98892328]\n",
      " [ 60.21452184]\n",
      " [ 68.40164621]\n",
      " [ 49.48677099]]\n"
     ]
    }
   ],
   "source": [
    "pl = PLSRegression()\n",
    "tune_algorithm(pl,train_x,train_y,test_x,'pls')"
   ]
  },
  {
   "cell_type": "markdown",
   "metadata": {},
   "source": [
    "### Mean RMSE of Feature selection(SelectKBest)+Multiple Linear Regression:9.909\n",
    "\n",
    "### Best number of features k:5(preferably drop predictor variable Fat)\n",
    "\n",
    "### Best number of components for Partial Least Squares regression:5\n",
    "\n",
    "### PLS regression is used to avoid multicollinearity\n"
   ]
  },
  {
   "cell_type": "markdown",
   "metadata": {},
   "source": [
    "### Feature Selection for Linear Regression+Lasso Regression using mutual info regression"
   ]
  },
  {
   "cell_type": "code",
   "execution_count": 90,
   "metadata": {
    "scrolled": true
   },
   "outputs": [
    {
     "name": "stdout",
     "output_type": "stream",
     "text": [
      "Best RMSE: -9.899\n",
      "Best Config: {'lr__alpha': 0.1, 'sel__k': 5}\n",
      "Best estimator: Pipeline(steps=[('se',\n",
      "                 ColumnTransformer(remainder='passthrough',\n",
      "                                   transformers=[('e', StandardScaler(),\n",
      "                                                  [0, 1, 2, 3, 4])])),\n",
      "                ('sel',\n",
      "                 SelectKBest(k=5,\n",
      "                             score_func=<function mutual_info_regression at 0x00000222DAEC8280>)),\n",
      "                ('lr', Lasso(alpha=0.1))])\n",
      ">-12.406 with: {'lr__alpha': 5, 'sel__k': 1}\n",
      ">-12.293 with: {'lr__alpha': 5, 'sel__k': 2}\n",
      ">-12.227 with: {'lr__alpha': 5, 'sel__k': 3}\n",
      ">-12.225 with: {'lr__alpha': 5, 'sel__k': 4}\n",
      ">-12.225 with: {'lr__alpha': 5, 'sel__k': 5}\n",
      ">-12.225 with: {'lr__alpha': 5, 'sel__k': 6}\n",
      ">-11.159 with: {'lr__alpha': 0.5, 'sel__k': 1}\n",
      ">-10.482 with: {'lr__alpha': 0.5, 'sel__k': 2}\n",
      ">-10.107 with: {'lr__alpha': 0.5, 'sel__k': 3}\n",
      ">-10.059 with: {'lr__alpha': 0.5, 'sel__k': 4}\n",
      ">-9.959 with: {'lr__alpha': 0.5, 'sel__k': 5}\n",
      ">-9.972 with: {'lr__alpha': 0.5, 'sel__k': 6}\n",
      ">-11.119 with: {'lr__alpha': 0.05, 'sel__k': 1}\n",
      ">-10.450 with: {'lr__alpha': 0.05, 'sel__k': 2}\n",
      ">-10.055 with: {'lr__alpha': 0.05, 'sel__k': 3}\n",
      ">-10.116 with: {'lr__alpha': 0.05, 'sel__k': 4}\n",
      ">-9.904 with: {'lr__alpha': 0.05, 'sel__k': 5}\n",
      ">-9.965 with: {'lr__alpha': 0.05, 'sel__k': 6}\n",
      ">-11.116 with: {'lr__alpha': 0.005, 'sel__k': 1}\n",
      ">-10.449 with: {'lr__alpha': 0.005, 'sel__k': 2}\n",
      ">-10.088 with: {'lr__alpha': 0.005, 'sel__k': 3}\n",
      ">-10.022 with: {'lr__alpha': 0.005, 'sel__k': 4}\n",
      ">-9.909 with: {'lr__alpha': 0.005, 'sel__k': 5}\n",
      ">-9.982 with: {'lr__alpha': 0.005, 'sel__k': 6}\n",
      ">-11.116 with: {'lr__alpha': 0.0005, 'sel__k': 1}\n",
      ">-10.448 with: {'lr__alpha': 0.0005, 'sel__k': 2}\n",
      ">-10.074 with: {'lr__alpha': 0.0005, 'sel__k': 3}\n",
      ">-10.098 with: {'lr__alpha': 0.0005, 'sel__k': 4}\n",
      ">-9.909 with: {'lr__alpha': 0.0005, 'sel__k': 5}\n",
      ">-9.983 with: {'lr__alpha': 0.0005, 'sel__k': 6}\n",
      ">-11.223 with: {'lr__alpha': 1, 'sel__k': 1}\n",
      ">-10.553 with: {'lr__alpha': 1, 'sel__k': 2}\n",
      ">-10.177 with: {'lr__alpha': 1, 'sel__k': 3}\n",
      ">-10.103 with: {'lr__alpha': 1, 'sel__k': 4}\n",
      ">-10.103 with: {'lr__alpha': 1, 'sel__k': 5}\n",
      ">-10.103 with: {'lr__alpha': 1, 'sel__k': 6}\n",
      ">-11.123 with: {'lr__alpha': 0.1, 'sel__k': 1}\n",
      ">-10.441 with: {'lr__alpha': 0.1, 'sel__k': 2}\n",
      ">-10.055 with: {'lr__alpha': 0.1, 'sel__k': 3}\n",
      ">-10.075 with: {'lr__alpha': 0.1, 'sel__k': 4}\n",
      ">-9.899 with: {'lr__alpha': 0.1, 'sel__k': 5}\n",
      ">-9.950 with: {'lr__alpha': 0.1, 'sel__k': 6}\n",
      ">-11.117 with: {'lr__alpha': 0.01, 'sel__k': 1}\n",
      ">-10.449 with: {'lr__alpha': 0.01, 'sel__k': 2}\n",
      ">-10.056 with: {'lr__alpha': 0.01, 'sel__k': 3}\n",
      ">-10.081 with: {'lr__alpha': 0.01, 'sel__k': 4}\n",
      ">-9.908 with: {'lr__alpha': 0.01, 'sel__k': 5}\n",
      ">-9.980 with: {'lr__alpha': 0.01, 'sel__k': 6}\n",
      ">-11.116 with: {'lr__alpha': 0.001, 'sel__k': 1}\n",
      ">-10.448 with: {'lr__alpha': 0.001, 'sel__k': 2}\n",
      ">-10.140 with: {'lr__alpha': 0.001, 'sel__k': 3}\n",
      ">-10.187 with: {'lr__alpha': 0.001, 'sel__k': 4}\n",
      ">-9.909 with: {'lr__alpha': 0.001, 'sel__k': 5}\n",
      ">-9.983 with: {'lr__alpha': 0.001, 'sel__k': 6}\n",
      ">-11.116 with: {'lr__alpha': 0.0001, 'sel__k': 1}\n",
      ">-10.448 with: {'lr__alpha': 0.0001, 'sel__k': 2}\n",
      ">-10.098 with: {'lr__alpha': 0.0001, 'sel__k': 3}\n",
      ">-10.137 with: {'lr__alpha': 0.0001, 'sel__k': 4}\n",
      ">-9.909 with: {'lr__alpha': 0.0001, 'sel__k': 5}\n",
      ">-9.983 with: {'lr__alpha': 0.0001, 'sel__k': 6}\n",
      "[ True False  True  True  True  True]\n",
      "[12.0653386  -3.61766017 -1.82198044 -0.36962677 -8.6386818 ]\n"
     ]
    },
    {
     "data": {
      "image/png": "[encoded data removed]",
      "text/plain": [
       "<Figure size 720x432 with 1 Axes>"
      ]
     },
     "metadata": {
      "needs_background": "light"
     },
     "output_type": "display_data"
    },
    {
     "name": "stdout",
     "output_type": "stream",
     "text": [
      "[ 59.0074582   47.50396454  62.35596539  65.54521377  73.72221892\n",
      "  99.13504148  54.91331649  29.61123214  59.95460191  62.79224629\n",
      "  76.76481983  64.49440575  44.79699424  79.60066169  65.19922881\n",
      "  57.49021467  49.00520489  59.03370947  78.63363759  82.46361554\n",
      "  69.80284571  55.42633718  34.87528342  79.11203845  44.49649496\n",
      "  53.23122488  73.73233295  87.94992731 101.3957098   65.4789136\n",
      "  67.06022084  63.9802558   61.90212216  85.4672968   62.16561267\n",
      "  35.17239491  70.15974068  61.08236175  56.03312017  86.1346253\n",
      "  37.94946401  42.00252821  75.28591969  83.35373967  83.96563385\n",
      "  99.67561058  70.15283467  60.66504921  68.63082762  49.65607826]\n"
     ]
    }
   ],
   "source": [
    "model = Lasso()\n",
    "tune_algorithm(model,train_x,train_y,test_x,'la')"
   ]
  },
  {
   "cell_type": "markdown",
   "metadata": {},
   "source": [
    "### Mean RMSE of Feature selection(SelectKBest)+Multiple Linear Regression:9.899\n",
    "\n",
    "### Best number of features k:5(preferably drop predictor variable Fat)\n",
    "\n",
    "### Best alpha value for Lasso Regression:0.1\n",
    "\n",
    "### Lasso regression tries to avoid multicollinearity by adjusting coefficients and moving coefficient of insignificant features closer to 0\n",
    "\n",
    "### Here the coefficient of Lactation feature is close to 0\n",
    "\n",
    "### So both the features Fat and Lactation are insignificant now."
   ]
  },
  {
   "cell_type": "markdown",
   "metadata": {},
   "source": [
    "### Now with the tuned hyperparameters let us try modeling from baseline model\n",
    "### As per SelectKBest we can drop variable Fat"
   ]
  },
  {
   "cell_type": "code",
   "execution_count": 91,
   "metadata": {},
   "outputs": [
    {
     "data": {
      "text/plain": [
       "((199, 5), (199,))"
      ]
     },
     "execution_count": 91,
     "metadata": {},
     "output_type": "execute_result"
    }
   ],
   "source": [
    "#seperating independent and dependent variables\n",
    "x = encodeddata.drop(['CurrentMilk','Fat'], axis=1)\n",
    "y = encodeddata['CurrentMilk']\n",
    "x.shape, y.shape"
   ]
  },
  {
   "cell_type": "code",
   "execution_count": 92,
   "metadata": {},
   "outputs": [],
   "source": [
    "from sklearn.model_selection import train_test_split\n",
    "train_x,test_x,train_y,test_y=train_test_split(x,y,random_state=42)"
   ]
  },
  {
   "cell_type": "code",
   "execution_count": 93,
   "metadata": {},
   "outputs": [],
   "source": [
    "# Creating instance of Linear Regresssion\n",
    "lr = LR()"
   ]
  },
  {
   "cell_type": "code",
   "execution_count": 94,
   "metadata": {},
   "outputs": [
    {
     "data": {
      "text/html": [
       "<div>\n",
       "<style scoped>\n",
       "    .dataframe tbody tr th:only-of-type {\n",
       "        vertical-align: middle;\n",
       "    }\n",
       "\n",
       "    .dataframe tbody tr th {\n",
       "        vertical-align: top;\n",
       "    }\n",
       "\n",
       "    .dataframe thead th {\n",
       "        text-align: right;\n",
       "    }\n",
       "</style>\n",
       "<table border=\"1\" class=\"dataframe\">\n",
       "  <thead>\n",
       "    <tr style=\"text-align: right;\">\n",
       "      <th></th>\n",
       "      <th>Previous</th>\n",
       "      <th>Protein</th>\n",
       "      <th>Days</th>\n",
       "      <th>Lactation</th>\n",
       "      <th>I79</th>\n",
       "    </tr>\n",
       "  </thead>\n",
       "  <tbody>\n",
       "    <tr>\n",
       "      <th>56</th>\n",
       "      <td>51</td>\n",
       "      <td>3.6</td>\n",
       "      <td>261</td>\n",
       "      <td>4.0</td>\n",
       "      <td>1</td>\n",
       "    </tr>\n",
       "    <tr>\n",
       "      <th>5</th>\n",
       "      <td>93</td>\n",
       "      <td>3.0</td>\n",
       "      <td>45</td>\n",
       "      <td>3.0</td>\n",
       "      <td>0</td>\n",
       "    </tr>\n",
       "    <tr>\n",
       "      <th>122</th>\n",
       "      <td>57</td>\n",
       "      <td>2.8</td>\n",
       "      <td>213</td>\n",
       "      <td>1.0</td>\n",
       "      <td>1</td>\n",
       "    </tr>\n",
       "    <tr>\n",
       "      <th>113</th>\n",
       "      <td>47</td>\n",
       "      <td>3.6</td>\n",
       "      <td>200</td>\n",
       "      <td>2.0</td>\n",
       "      <td>1</td>\n",
       "    </tr>\n",
       "    <tr>\n",
       "      <th>93</th>\n",
       "      <td>62</td>\n",
       "      <td>3.0</td>\n",
       "      <td>172</td>\n",
       "      <td>2.0</td>\n",
       "      <td>1</td>\n",
       "    </tr>\n",
       "    <tr>\n",
       "      <th>...</th>\n",
       "      <td>...</td>\n",
       "      <td>...</td>\n",
       "      <td>...</td>\n",
       "      <td>...</td>\n",
       "      <td>...</td>\n",
       "    </tr>\n",
       "    <tr>\n",
       "      <th>106</th>\n",
       "      <td>60</td>\n",
       "      <td>3.6</td>\n",
       "      <td>183</td>\n",
       "      <td>2.0</td>\n",
       "      <td>1</td>\n",
       "    </tr>\n",
       "    <tr>\n",
       "      <th>14</th>\n",
       "      <td>81</td>\n",
       "      <td>2.8</td>\n",
       "      <td>59</td>\n",
       "      <td>4.0</td>\n",
       "      <td>0</td>\n",
       "    </tr>\n",
       "    <tr>\n",
       "      <th>92</th>\n",
       "      <td>53</td>\n",
       "      <td>3.3</td>\n",
       "      <td>169</td>\n",
       "      <td>4.0</td>\n",
       "      <td>1</td>\n",
       "    </tr>\n",
       "    <tr>\n",
       "      <th>179</th>\n",
       "      <td>64</td>\n",
       "      <td>3.4</td>\n",
       "      <td>138</td>\n",
       "      <td>2.0</td>\n",
       "      <td>1</td>\n",
       "    </tr>\n",
       "    <tr>\n",
       "      <th>102</th>\n",
       "      <td>66</td>\n",
       "      <td>3.3</td>\n",
       "      <td>180</td>\n",
       "      <td>1.0</td>\n",
       "      <td>1</td>\n",
       "    </tr>\n",
       "  </tbody>\n",
       "</table>\n",
       "<p>149 rows × 5 columns</p>\n",
       "</div>"
      ],
      "text/plain": [
       "     Previous  Protein  Days  Lactation  I79\n",
       "56         51      3.6   261        4.0    1\n",
       "5          93      3.0    45        3.0    0\n",
       "122        57      2.8   213        1.0    1\n",
       "113        47      3.6   200        2.0    1\n",
       "93         62      3.0   172        2.0    1\n",
       "..        ...      ...   ...        ...  ...\n",
       "106        60      3.6   183        2.0    1\n",
       "14         81      2.8    59        4.0    0\n",
       "92         53      3.3   169        4.0    1\n",
       "179        64      3.4   138        2.0    1\n",
       "102        66      3.3   180        1.0    1\n",
       "\n",
       "[149 rows x 5 columns]"
      ]
     },
     "execution_count": 94,
     "metadata": {},
     "output_type": "execute_result"
    }
   ],
   "source": [
    "train_x"
   ]
  },
  {
   "cell_type": "code",
   "execution_count": 95,
   "metadata": {},
   "outputs": [
    {
     "data": {
      "text/plain": [
       "-9.909327661550869"
      ]
     },
     "execution_count": 95,
     "metadata": {},
     "output_type": "execute_result"
    }
   ],
   "source": [
    "kf = RepeatedKFold(n_splits=10, n_repeats=3, random_state=42)\n",
    "sca_ix = [0,1,2,3]\n",
    "cat_ix = [4]\n",
    "# define the selective transforms\n",
    "lr = LR()\n",
    "t = [('e', StandardScaler(), sca_ix)]\n",
    "selective = ColumnTransformer(transformers=t, remainder='passthrough')\n",
    "pipeline = Pipeline(steps=[('se',selective), ('lr', lr)])\n",
    "from sklearn.model_selection import cross_val_score\n",
    "scores = cross_val_score(pipeline, train_x, train_y, scoring='neg_root_mean_squared_error', cv=kf)\n",
    "scores.mean()"
   ]
  },
  {
   "cell_type": "markdown",
   "metadata": {},
   "source": [
    "#### Basic linear regression model  after feature selection gives an average RMSE of 9.09"
   ]
  },
  {
   "cell_type": "code",
   "execution_count": 96,
   "metadata": {},
   "outputs": [
    {
     "data": {
      "text/plain": [
       "-9.909327661550869"
      ]
     },
     "execution_count": 96,
     "metadata": {},
     "output_type": "execute_result"
    }
   ],
   "source": [
    "kf = RepeatedKFold(n_splits=10, n_repeats=3, random_state=42)\n",
    "model = PLSRegression(n_components=5)\n",
    "sca_ix = [0,1,2,3]\n",
    "cat_ix = [4]\n",
    "# define the selective transforms\n",
    "t = [('e', StandardScaler(), sca_ix)]\n",
    "selective = ColumnTransformer(transformers=t, remainder='passthrough')\n",
    "pipeline = Pipeline(steps=[('se',selective),('la', model)])\n",
    "pipeline.fit(train_x,train_y)\n",
    "testp=pipeline.predict(test_x)\n",
    "from sklearn.model_selection import cross_val_score\n",
    "scores = cross_val_score(pipeline, train_x, train_y, scoring='neg_root_mean_squared_error', cv=kf)\n",
    "testp=testp.reshape(50,)\n",
    "scores.mean()"
   ]
  },
  {
   "cell_type": "markdown",
   "metadata": {},
   "source": [
    "#### PLS regression model  after feature selection gives an average RMSE of 9.09"
   ]
  },
  {
   "cell_type": "code",
   "execution_count": 97,
   "metadata": {},
   "outputs": [
    {
     "name": "stdout",
     "output_type": "stream",
     "text": [
      "R Squared: 0.6063062159549273\n",
      "Mean RMSE: 9.899241691764129\n"
     ]
    }
   ],
   "source": [
    "kf = RepeatedKFold(n_splits=10, n_repeats=3, random_state=42)\n",
    "model = Lasso(alpha=0.1)\n",
    "sca_ix = [0,1,2,3]\n",
    "cat_ix = [4]\n",
    "# define the selective transforms\n",
    "t = [('e', StandardScaler(), sca_ix)]\n",
    "selective = ColumnTransformer(transformers=t, remainder='passthrough')\n",
    "pipeline = Pipeline(steps=[('se',selective),('la', model)])\n",
    "pipeline.fit(train_x,train_y)\n",
    "testp=pipeline.predict(test_x)\n",
    "from sklearn.model_selection import cross_val_score\n",
    "scores = cross_val_score(pipeline, train_x, train_y, scoring='r2', cv=kf)\n",
    "coeff=pipeline.named_steps['la'].coef_\n",
    "print(\"R Squared:\",scores.mean())\n",
    "scores = cross_val_score(pipeline, train_x, train_y, scoring='neg_root_mean_squared_error', cv=kf)\n",
    "print(\"Mean RMSE:\",-(scores.mean()))"
   ]
  },
  {
   "cell_type": "code",
   "execution_count": 99,
   "metadata": {},
   "outputs": [
    {
     "data": {
      "text/plain": [
       "0.7183384162795091"
      ]
     },
     "execution_count": 99,
     "metadata": {},
     "output_type": "execute_result"
    }
   ],
   "source": [
    "import sklearn\n",
    "yp=pipeline.predict(train_x)\n",
    "sklearn.metrics.r2_score(train_y, yp)"
   ]
  },
  {
   "cell_type": "markdown",
   "metadata": {},
   "source": [
    "#### Lasso regression model  after feature selection gives an average RMSE of 9.89"
   ]
  },
  {
   "cell_type": "markdown",
   "metadata": {},
   "source": [
    "## Checking assumptions of Linear Model"
   ]
  },
  {
   "cell_type": "markdown",
   "metadata": {},
   "source": [
    "#### Interpreting coefficients"
   ]
  },
  {
   "cell_type": "code",
   "execution_count": null,
   "metadata": {},
   "outputs": [],
   "source": [
    "plt.figure(figsize=(5, 3), dpi=120, facecolor='w', edgecolor='b')\n",
    "x = range(len(train_x.columns))\n",
    "y = coeff\n",
    "plt.bar( x, y )\n",
    "plt.xlabel('Variables')\n",
    "plt.ylabel('Coefficients')\n",
    "plt.title('Coefficient plot')"
   ]
  },
  {
   "cell_type": "markdown",
   "metadata": {},
   "source": [
    "### The plot shows that the most significant feature affecting current milk production is previous milk production"
   ]
  },
  {
   "cell_type": "code",
   "execution_count": null,
   "metadata": {},
   "outputs": [],
   "source": [
    "# Arranging and calculating the Residuals\n",
    "residuals = pd.DataFrame({\n",
    "    'fitted values' : test_y,\n",
    "    'predicted values' : testp,\n",
    "})\n",
    "\n",
    "residuals['residuals'] = residuals['fitted values'] - residuals['predicted values']\n",
    "residuals"
   ]
  },
  {
   "cell_type": "markdown",
   "metadata": {},
   "source": [
    "#### Plotting residual curve (Is there constant Variance OR Homoscedastic?)"
   ]
  },
  {
   "cell_type": "code",
   "execution_count": null,
   "metadata": {},
   "outputs": [],
   "source": [
    "plt.figure(figsize=(10, 6), dpi=120, facecolor='w', edgecolor='b')\n",
    "f = range(0,50)\n",
    "k = [0 for i in range(0,50)]\n",
    "plt.scatter( f, residuals.residuals[:], label = 'residuals')\n",
    "plt.plot( f, k , color = 'red', label = 'regression line' )\n",
    "plt.xlabel('fitted points ')\n",
    "plt.ylabel('residuals')\n",
    "plt.title('Residual plot')\n",
    "plt.ylim(-4000, 4000)\n",
    "plt.legend()"
   ]
  },
  {
   "cell_type": "markdown",
   "metadata": {},
   "source": [
    "### The Residual plot clearly looks Homoscedastic, i.e. the the variance of the error across the dataset is nearly constant."
   ]
  },
  {
   "cell_type": "markdown",
   "metadata": {},
   "source": [
    "### Checking Distribution of Residuals"
   ]
  },
  {
   "cell_type": "code",
   "execution_count": null,
   "metadata": {
    "scrolled": true
   },
   "outputs": [],
   "source": [
    "# Histogram for distribution\n",
    "plt.figure(figsize=(5, 4), dpi=120, facecolor='w', edgecolor='b')\n",
    "plt.hist(residuals.residuals, bins = 15)\n",
    "plt.xlabel('Error')\n",
    "plt.ylabel('Frequency')\n",
    "plt.title('Distribution of Error Terms')\n",
    "plt.show()"
   ]
  },
  {
   "cell_type": "markdown",
   "metadata": {},
   "source": [
    "### The Residual distribution is normal with some outliers"
   ]
  },
  {
   "cell_type": "markdown",
   "metadata": {},
   "source": [
    "### QQ-Plot (Is the data Normally Distributed?)"
   ]
  },
  {
   "cell_type": "code",
   "execution_count": null,
   "metadata": {},
   "outputs": [],
   "source": [
    "# importing the QQ-plot from the from the statsmodels\n",
    "from statsmodels.graphics.gofplots import qqplot\n",
    "\n",
    "## Plotting the QQ plot\n",
    "fig, ax = plt.subplots(figsize=(5,5) , dpi = 120)\n",
    "qqplot(residuals.residuals, line = 's' , ax = ax)\n",
    "plt.ylabel('Residual Quantiles')\n",
    "plt.xlabel('Ideal Scaled Quantiles')\n",
    "plt.title('Checking distribution of Residual Errors')\n",
    "plt.show()"
   ]
  },
  {
   "cell_type": "markdown",
   "metadata": {},
   "source": [
    "#### The QQ-plot clearly verifies our findings from the the histogram of the residuals, the data is mostly normal in nature, but there sre some outliers on both ends of the Residues."
   ]
  },
  {
   "cell_type": "markdown",
   "metadata": {},
   "source": [
    "### Thus we are getting the least RMSE when using the Lasso regression which is used to avoid multicollinearity.This is justified also as we saw that the model has inherent multicolliearity"
   ]
  },
  {
   "cell_type": "markdown",
   "metadata": {},
   "source": [
    "### The techniques used are feature selection using SelectKBest with mutual info regression and then Lasso Regression/Regularized multiple linear regression"
   ]
  },
  {
   "cell_type": "markdown",
   "metadata": {},
   "source": [
    "### a) Do you think a linear model is appropriate to describe the association between response and explanatory? If yes, is the association/correlation between response and each explanatory variable are reasonably strong or quite weak? By plotting each independent variable vs. dependent variable suggest an increasing or decreasing relationship between them?\n",
    "\n",
    "#### Done via plots.Yes.Linear model is appropriate.Association between independant and dependant variables plotted.Most of assumptions were satisfied.Exception was multicollinearity which we resolved by regularizing using Lasso Regression\n",
    "\n",
    "### b) Describe all the possible relationships (independent vs. dependent). Which relationship seems most appropriate for a linear model?\n",
    "\n",
    "#### As per plots,the most appropriate is previous milk production versus current milk production which should be directly proportional\n",
    "\n",
    "### Regardless of your conclusions in questions b, let’s explore briefly the regression of response variable on explanatory variables.\n",
    "\n",
    "### a) Build a regression model using response and explanatory variables. How many significant variables were used to fit the reduced model? Insert the line into the corresponding scatterplot and paste it into your report. Does the line provide a good fit?\n",
    "#### 5 significant variables excluding Fat were used and Lasso regularization adjusted to remove Lactation.So model has 4 significant variables Previous,Protein,Days and I79\n",
    "\n",
    "\n",
    "### b) What percent of the variation in current month milk production is explained by influencing variables?\n",
    "\n",
    "#### 60.6% variation in current month milk production was explained by the significant variables\n",
    "\n",
    "### c) Obtain the plot of standardized residuals versus standardized predicted values for the regression model and describe the pattern of the residuals. Comment on the assumption of constant variance.\n",
    "#### Done.Constant variance observed\n",
    "\n",
    "### d) Obtain the normality plot of standardized residuals and comment on the assumption of normality.\n",
    "#### Done.Normal distribution with outliers\n"
   ]
  },
  {
   "cell_type": "markdown",
   "metadata": {},
   "source": [
    "### a) Consider you as a Data analyst in The dairy Herd Improvement Cooperative (DHI), suggest a most important factor which will contribute in the production of Current month milk production in pounds (explain it with the direction in which the rate changes)"
   ]
  },
  {
   "cell_type": "markdown",
   "metadata": {},
   "source": [
    "#### The most important factor which will contribute in production of Current month milk production is previous month milk production.\n",
    "#### They are directly proportional/have a positive linear relationship,So especially cows giving more milk this month will have more probability to give more milk next month.So take appropriate measures"
   ]
  },
  {
   "cell_type": "code",
   "execution_count": null,
   "metadata": {},
   "outputs": [],
   "source": []
  }
 ],
 "metadata": {
  "kernelspec": {
   "display_name": "Python 3",
   "language": "python",
   "name": "python3"
  },
  "language_info": {
   "codemirror_mode": {
    "name": "ipython",
    "version": 3
   },
   "file_extension": ".py",
   "mimetype": "text/x-python",
   "name": "python",
   "nbconvert_exporter": "python",
   "pygments_lexer": "ipython3",
   "version": "3.8.3"
  }
 },
 "nbformat": 4,
 "nbformat_minor": 4
}
